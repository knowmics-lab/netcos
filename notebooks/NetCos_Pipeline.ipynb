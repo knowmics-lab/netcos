{
 "cells": [
  {
   "cell_type": "markdown",
   "id": "7069ae61-f51a-48b2-8b03-983197f072a2",
   "metadata": {},
   "source": [
    "<h1 style=\"text-align: center;\"><b>NetCos Pipeline</b></h1>"
   ]
  },
  {
   "cell_type": "markdown",
   "id": "126a66d3-c059-47ee-aa6f-d5dad31731bb",
   "metadata": {},
   "source": [
    "Starting point input for this pipeline: Fold Change data for a given disease and a group of drugs.\n",
    "\n",
    "After running cell below, all sections can be run independently\n",
    "\n"
   ]
  },
  {
   "cell_type": "code",
   "execution_count": 1,
   "id": "fe5e9bdc-0364-40e9-8d6e-3318ea810502",
   "metadata": {},
   "outputs": [],
   "source": [
    "import os\n",
    "if not os.getcwd().endswith('modules'):\n",
    "    os.chdir('../modules')"
   ]
  },
  {
   "cell_type": "markdown",
   "id": "3a27e90c-2c34-4124-a3b0-c13230517aae",
   "metadata": {},
   "source": [
    "## Table of Contents\n",
    "\n",
    "- [Disease data](#disease-data)\n",
    "- [Filter genes by gene ID and prepare fold change data output into MITHrIL input](#filter-genes-by-gene-id-and-prepare-fold-change-data-output-into-mithril-input)\n",
    "    - [find duplicated IDs](#find-duplicated-ids)\n",
    "    - [Create MITHrIL input with unique gene IDs](#create-mithril-input-with-unique-gene-ids)\n",
    "    - [Convert original signature data to unique gene IDs](#convert-original-signature-data-to-unique-gene-ids)\n",
    "- [Run MITHrIL](#run-mithril)\n",
    "    - [Run MITHrIL from command line:](#run-mithril-from-command-line)\n",
    "    - [Run directly from this ipython notebook:](#run-directly-from-this-ipython-notebook)\n",
    "- [Convert MITHrIL perturbation output into connectivity input](#convert-mithril-perturbation-output-into-connectivity-input)\n",
    "- [Drug data](#drug-data)\n",
    "- [MITHrIL input creation](#mithril-input-creation)\n",
    "    - [Transpose data from gene wise to drug wise:](#transpose-data-from-gene-wise-to-drug-wise)\n",
    "      - [Iteratively transpose all data](#iteratively-transpose-all-data)\n",
    "      - [Transpose all data in parallel:](#transpose-all-data-in-parallel)\n",
    "    - [Merge all drug data into one matrix](#merge-all-drug-data-into-one-matrix)\n",
    "    - [Filter data by gene ID](#filter-data-by-gene-id)\n",
    "- [MITHrIL batch run](#mithril-batch-run)\n",
    "    - [Run MITHrIL from command line:](#run-mithril-from-command-line)\n",
    "    - [Run MITHrIL from this notebook:](#run-mithril-from-this-notebook)\n",
    "- [Convert drug mithril output into connectivity score calculation input](#convert-drug-mithril-output-into-connectivity-score-calculation-input)\n",
    "    - [Iterative run:](#iterative-run)\n",
    "    - [Parallel run:](#parallel-run)\n",
    "  - [ADDITIONAL STEP to filter data inside metanalysis_drug_wise, because they are unfortunately still DEG data with non unique gnee filters, run the dedicated section inside preproc_utils.py, create a folder called metanalysis_drug_wise_filtered, and then zip the folder metanalysis_drug_wise.](#additional-step-to-filter-data-inside-metanalysis_drug_wise-because-they-are-unfortunately-still-deg-data-with-non-unique-gnee-filters-run-the-dedicated-section-inside-preproc_utilspy-create-a-folder-called-metanalysis_drug_wise_filtered-and-then-zip-the-folder-metanalysis_drug_wise)\n",
    "  - [e anche 7_filter blalablabla è fatto allo stesso modo se si volesse usare il DEG](#e-anche-7_filter-blalablabla-è-fatto-allo-stesso-modo-se-si-volesse-usare-il-deg)\n",
    "- [Calculate connectivity score](#calculate-connectivity-score)\n",
    "- [Iterative run of connectivity score for a list of drugs](#iterative-run-of-connectivity-score-for-a-list-of-drugs)\n",
    "- [CPU parallel run of connectivity score for a list of drugs](#cpu-parallel-run-of-connectivity-score-for-a-list-of-drugs)"
   ]
  },
  {
   "cell_type": "markdown",
   "id": "d03a1962-2ec2-4a3b-a0cc-d1e7f25a943b",
   "metadata": {},
   "source": [
    "# <div align=\"center\"><b>Disease data</b>"
   ]
  },
  {
   "cell_type": "markdown",
   "id": "22ddd293-521c-4c44-8498-d04ed449425e",
   "metadata": {},
   "source": [
    "## <b>Filter genes by gene ID and prepare fold change data output into MITHrIL input</b>\n",
    "\n",
    "source code: step1_disease_gene_name_to_id_map.py\n",
    "\n"
   ]
  },
  {
   "cell_type": "code",
   "execution_count": 4,
   "id": "86cd3b53-0725-4e60-b06a-4dfab1e24214",
   "metadata": {},
   "outputs": [],
   "source": [
    "import pandas as pd\n",
    "import pickle\n",
    "import numpy as np\n",
    "import collections\n",
    "from conf import DISEASE, MITH_IN_DISEASE, TSR_OUT_DISEASE, DICT_DIR, alias_2geneid"
   ]
  },
  {
   "cell_type": "markdown",
   "id": "813af537-af6b-4c3a-9c35-10ecbc70fef7",
   "metadata": {},
   "source": [
    "### find duplicated IDs "
   ]
  },
  {
   "cell_type": "code",
   "execution_count": 7,
   "id": "986feb5f-5c46-4653-adeb-7555d8bae46d",
   "metadata": {},
   "outputs": [
    {
     "name": "stdout",
     "output_type": "stream",
     "text": [
      "Disease symbol: ipf\n",
      "183 gene symbols without gene id \n",
      "530 duplicated ids\n"
     ]
    }
   ],
   "source": [
    "print('Disease symbol:', DISEASE)\n",
    "disease_gene_signature_data=pd.read_csv(TSR_OUT_DISEASE+DISEASE+os.sep+DISEASE+'_signature.csv', sep=';', decimal=',',header=0)\n",
    "genes_not_in_alias=[]\n",
    "disease_genes_id_to_symbol_univocous={}\n",
    "duplicated_ids_with_different_symbols=collections.defaultdict(list)\n",
    "for symbol in disease_gene_signature_data['gene']:\n",
    "    try:\n",
    "        gene_id=str(alias_2geneid[symbol])\n",
    "        disease_genes_id_to_symbol_univocous[gene_id] = symbol \n",
    "        duplicated_ids_with_different_symbols[gene_id].append(symbol) \n",
    "    except:\n",
    "\n",
    "        genes_not_in_alias.append(symbol)\n",
    "print(len(genes_not_in_alias), 'gene symbols without gene id ') \n",
    "\n",
    "#only keep duplicates:\n",
    "topop=[]\n",
    "for gene_id, symbols  in duplicated_ids_with_different_symbols.items():\n",
    "    if len(symbols)==1:\n",
    "        topop.append(gene_id)\n",
    "for gene_id in topop:\n",
    "    duplicated_ids_with_different_symbols.pop(gene_id)\n",
    "print(len(duplicated_ids_with_different_symbols.keys()), 'duplicated ids')"
   ]
  },
  {
   "cell_type": "markdown",
   "id": "6a6b2254-53d0-4421-8c2a-51f7a07693bd",
   "metadata": {},
   "source": [
    "Do duplicates have different data?"
   ]
  },
  {
   "cell_type": "code",
   "execution_count": 8,
   "id": "d56be891-bdd4-4b27-826a-1b797c1e4e01",
   "metadata": {},
   "outputs": [
    {
     "name": "stdout",
     "output_type": "stream",
     "text": [
      "tot duplicated genes with different FC 528\n"
     ]
    }
   ],
   "source": [
    "def print_duplicated(genes,df):\n",
    "    FCs=[]\n",
    "    for gene_symbol in genes:\n",
    "        fc=disease_gene_signature_data[disease_gene_signature_data['gene']==gene_symbol]['DE_log2_FC'].iloc[0]\n",
    "        FCs.append(np.round(fc,3))\n",
    "    if not len(np.unique(np.array(FCs)))==1:\n",
    "\n",
    "        return 1\n",
    "    return 0\n",
    "\n",
    "count_duplicated_genes_with_different_FC=0\n",
    "for gene_id, duped_symbols in duplicated_ids_with_different_symbols.items():\n",
    "    count_duplicated_genes_with_different_FC+=print_duplicated(duped_symbols, disease_gene_signature_data)\n",
    "print('tot duplicated genes with different FC', count_duplicated_genes_with_different_FC)\n",
    "genes_id_to_symbol_univocous={gene_id:disease_genes_id_to_symbol_univocous[gene_id] for gene_id in topop}"
   ]
  },
  {
   "cell_type": "code",
   "execution_count": 4,
   "id": "38d0c724-6901-4ee3-9d1a-33a0adcb5e0d",
   "metadata": {},
   "outputs": [],
   "source": [
    "#%%save dictionary for later translation into gene names if needed:\n",
    "filename=DICT_DIR+DISEASE+'_gene_id_to_symbol.pkl'\n",
    "with open(filename, 'wb') as f:\n",
    "    pickle.dump(genes_id_to_symbol_univocous, f)"
   ]
  },
  {
   "cell_type": "markdown",
   "id": "7d183853-c674-4c47-bb72-003fee366c9b",
   "metadata": {},
   "source": [
    "### Create MITHrIL input with unique gene IDs"
   ]
  },
  {
   "cell_type": "code",
   "execution_count": 17,
   "id": "b2b7e8cf-9d9f-4ce4-8dba-23d227e24e55",
   "metadata": {},
   "outputs": [],
   "source": [
    "gene_id_mith_input=[]\n",
    "for gene_id in topop: # slow\n",
    "    fc=disease_gene_signature_data[disease_gene_signature_data['gene']==disease_genes_id_to_symbol_univocous[gene_id]]['DE_log2_FC'].iloc[0]\n",
    "    gene_id_mith_input.append(gene_id+'\\t'+str(fc))\n",
    "\n",
    "\n",
    "#%% save mithril input\n",
    "f=open(MITH_IN_DISEASE+DISEASE+'_signature_gene_id.mi','w')\n",
    "f.write(('\\n').join(gene_id_mith_input))\n",
    "f.close()"
   ]
  },
  {
   "cell_type": "markdown",
   "id": "27b52daf-f072-4fb4-a78c-5d554389e261",
   "metadata": {},
   "source": [
    "### Convert original signature data to unique gene IDs"
   ]
  },
  {
   "cell_type": "code",
   "execution_count": 9,
   "id": "a724d487-09ba-4a23-ac9b-f7c184c267e3",
   "metadata": {},
   "outputs": [],
   "source": [
    "# remove gene symbols not in mapping\n",
    "disease_gene_signature_data = disease_gene_signature_data[~disease_gene_signature_data.gene.isin(genes_not_in_alias)]\n",
    "\n",
    "# Remove duplicates\n",
    "disease_gene_signature_data['gene_id']=disease_gene_signature_data['gene'].apply(lambda gene : str(alias_2geneid[gene]))\n",
    "disease_gene_signature_data = disease_gene_signature_data[disease_gene_signature_data.gene_id.isin(topop)]\n",
    "\n",
    "# Save file\n",
    "disease_gene_signature_data.to_csv(TSR_OUT_DISEASE+DISEASE+os.sep+DISEASE+'_signature_gene_id.csv', sep=';',decimal=',', index=None)\n"
   ]
  },
  {
   "cell_type": "markdown",
   "id": "a0c61cf7-5a77-48f5-81b9-25a45daacdca",
   "metadata": {},
   "source": [
    "## <b>Run MITHrIL</b>\n",
    "\n",
    "source code: step2_disease_run_MITHrIL.py\n"
   ]
  },
  {
   "cell_type": "code",
   "execution_count": 2,
   "id": "b7b9ca91-494a-472f-ae60-d33f10e578ab",
   "metadata": {},
   "outputs": [],
   "source": [
    "import subprocess\n",
    "from conf import DISEASE, MITH_APP, MITH_IN_DISEASE, MITH_OUT_DISEASE"
   ]
  },
  {
   "cell_type": "code",
   "execution_count": 3,
   "id": "5573041f-5ade-4fc2-98f0-089a77b43520",
   "metadata": {},
   "outputs": [],
   "source": [
    "def run_mithril(DISEASE, MITH_APP, MITH_IN_DISEASE, MITH_OUT_DISEASE,\n",
    "                organism='hsa_v2023_03', n_thread=\"30\", verbose=True, printc=True):\n",
    "    '''\n",
    "    MITHrIL parameters:\n",
    "    -organism hsa_v2023_03 organism version used in this experiment. For most \n",
    "            up-to-date version, use 'hsa'. for a list of all available\n",
    "            organisms, type:\n",
    "            java -jar MITH_APP organisms\n",
    "\n",
    "    -reactome: also use reactome network\n",
    "    -seed: random seed for replicability\n",
    "    -customize-pathway-matrix : calcola alcone cose come mithril 2. va messo\n",
    "    -inversion-factory fast-cpu : accelereate calculation with fast-cpu library\n",
    "    -multiplication-factory fast-cpu : accelereate calculation with fast-cpu library\n",
    "    -t : number of threads\n",
    "    -o : full path of output file name\n",
    "    -p : full path of perturbation output file name\n",
    "    '''\n",
    "    command = [\n",
    "        \"java\", \"-jar\", MITH_APP,\n",
    "        \"mithril\", \"-reactome\", \"-p\", \"-customize-pathway-matrix\",\n",
    "        \"-seed\", \"1234\", \"-inversion-factory\", \"fast-cpu\", \"-multiplication-factory\", \"fast-cpu\",\n",
    "        \"-t\", n_thread, \"-i\", \"-organism\", organism,\n",
    "        f\"{MITH_IN_DISEASE}{DISEASE}_signature_gene_id.mi\",\n",
    "        \"-o\", f\"{MITH_OUT_DISEASE}{DISEASE}_mith3.output.txt\",\n",
    "        \"-p\", f\"{MITH_OUT_DISEASE}{DISEASE}_mith3.perturbations.txt\"\n",
    "    ]\n",
    "\n",
    "    if verbose:\n",
    "        command.append(\"-verbose\")\n",
    "\n",
    "    if printc:\n",
    "        print(' '.join(command))\n",
    "        return\n",
    "        \n",
    "    else:\n",
    "        # run MITHrIL from python\n",
    "        process = subprocess.Popen(command, stdout=subprocess.PIPE, stderr=subprocess.PIPE, text=True)\n",
    "        \n",
    "        for line in process.stdout:\n",
    "            print(line, end=\"\")\n",
    "        for line in process.stderr:\n",
    "            print(line, end=\"\")\n",
    "        \n",
    "        process.wait()\n",
    "        return process.returncode"
   ]
  },
  {
   "cell_type": "markdown",
   "id": "464cae94-f7a7-4dee-83f4-c3e5729e4c8e",
   "metadata": {},
   "source": [
    "### Run MITHrIL from command line:"
   ]
  },
  {
   "cell_type": "markdown",
   "id": "e2d3cc17-bae5-44e2-bcf8-7e362bad3999",
   "metadata": {},
   "source": [
    "with"
   ]
  },
  {
   "cell_type": "code",
   "execution_count": 4,
   "id": "6eea90f3-2cea-43f2-88ee-a7c7c409c847",
   "metadata": {},
   "outputs": [
    {
     "name": "stdout",
     "output_type": "stream",
     "text": [
      "java -jar /home/signorini/mithril3/app-3.0.0-SNAPSHOT.jar mithril -reactome -p -customize-pathway-matrix -seed 1234 -inversion-factory fast-cpu -multiplication-factory fast-cpu -t 30 -i -organism hsa_v2023_03 G:\\Il mio Drive\\unict 2024-25\\drug_repurposing\\MITHrIL\\input\\disease_signature\\ipf_signature_gene_id.mi -o G:\\Il mio Drive\\unict 2024-25\\drug_repurposing\\MITHrIL\\output\\disease_signature\\ipf_mith3.output.txt -p G:\\Il mio Drive\\unict 2024-25\\drug_repurposing\\MITHrIL\\output\\disease_signature\\ipf_mith3.perturbations.txt -verbose\n"
     ]
    }
   ],
   "source": [
    "run_mithril(DISEASE, MITH_APP, MITH_IN_DISEASE, MITH_OUT_DISEASE, printc=True)"
   ]
  },
  {
   "cell_type": "markdown",
   "id": "bf191236-e000-4fac-810a-b80f5be02337",
   "metadata": {},
   "source": [
    "alternatively:"
   ]
  },
  {
   "cell_type": "markdown",
   "id": "0c9963f3-c7e5-4932-ada5-732c9ddb2a2c",
   "metadata": {},
   "source": [
    "### Run directly from this ipython notebook:\n",
    "WARNING: running from notebook will not print any output until completion, which may take a long time. It is recomended to run from command line"
   ]
  },
  {
   "cell_type": "code",
   "execution_count": null,
   "id": "f30d9e20-b050-4291-9d53-2b6f042df66d",
   "metadata": {},
   "outputs": [],
   "source": [
    "run_mithril(DISEASE, MITH_APP, MITH_IN_DISEASE, MITH_OUT_DISEASE, printc=False)"
   ]
  },
  {
   "cell_type": "markdown",
   "id": "8d7fbd58-ab5e-4cc6-b6d3-92cb2a293550",
   "metadata": {},
   "source": [
    "##  <b>Convert MITHrIL perturbation output into connectivity input\n",
    "\n",
    "source code: step3_mith_out_to_cs_in_disease.py"
   ]
  },
  {
   "cell_type": "code",
   "execution_count": 5,
   "id": "f67c1ff6-ffdd-4e89-8fcf-d8bca8bb9310",
   "metadata": {},
   "outputs": [],
   "source": [
    "from conf import DISEASE, MITH_OUT_DISEASE, CS_IN_DISEASE, DISEASE \n",
    "from step3_mith_out_to_cs_in_disease import mith_to_cs_in,write_cs_input"
   ]
  },
  {
   "cell_type": "code",
   "execution_count": 6,
   "id": "8fbdb4e2-66fe-4266-a93a-48a8b62e58f6",
   "metadata": {},
   "outputs": [
    {
     "name": "stdout",
     "output_type": "stream",
     "text": [
      "ipf\n"
     ]
    }
   ],
   "source": [
    "print(DISEASE)\n",
    "# read MITHrIL perturbation output\n",
    "mith_file=MITH_OUT_DISEASE+DISEASE+'_mith3.perturbations.txt'\n",
    "cs_data=mith_to_cs_in(mith_file)\n"
   ]
  },
  {
   "cell_type": "code",
   "execution_count": 7,
   "id": "82dd7202-0905-4f08-90c1-df4532249eb0",
   "metadata": {},
   "outputs": [
    {
     "name": "stdout",
     "output_type": "stream",
     "text": [
      "Connectivity score disease input file for MITHrIL perturbation data written at G:\\Il mio Drive\\unict 2024-25\\drug_repurposing\\connectivity_score\\input\\disease_signature\\ipf\\ \n",
      "file name: ipf_mith3_signature.csv\n"
     ]
    }
   ],
   "source": [
    "# write CS input\n",
    "cs_input_name=DISEASE+'_mith3_signature.csv'\n",
    "write_cs_input(cs_data, cs_input_name, CS_IN_DISEASE)"
   ]
  },
  {
   "cell_type": "markdown",
   "id": "ed2da9c8-c925-41f9-bc02-2b3f3279255a",
   "metadata": {},
   "source": [
    "To explore this dataset, check the data exploration notebook"
   ]
  },
  {
   "cell_type": "markdown",
   "id": "bbf35d14-fbb9-47cb-94d4-d5b413b5dabd",
   "metadata": {},
   "source": [
    "# <div align=\"center\"><b>Drug data</b>"
   ]
  },
  {
   "cell_type": "markdown",
   "id": "bd930cca-99db-4f8f-b455-b20ad3d41324",
   "metadata": {},
   "source": [
    "## <b>MITHrIL input creation</b>\n",
    "\n",
    "Extract FC data for all genes, for all drugs at 6h, 24h and metanalysis (6h_24h) timestep from metnalayisis gene files\n",
    "Results of metanalysis calculation for drug data are  saved gene-wise, where every gene has a file containing fold change data for all drugs, for different perturbation timesteps and for metanalysis timestep. This scripts refets \n",
    "\n",
    "source code: step4_drug_map_metanalysis_wrapper.py, map_metanalysis_gene_wise_to_drug_wise.R\n"
   ]
  },
  {
   "cell_type": "markdown",
   "id": "442eb17f-cc79-42dc-8362-9c05a88018a7",
   "metadata": {},
   "source": [
    "### Transpose data from gene wise to drug wise:"
   ]
  },
  {
   "cell_type": "markdown",
   "id": "036f3d5c-b18c-48c8-a44f-2d25ea223a76",
   "metadata": {},
   "source": [
    "#### Iteratively transpose all data:\n",
    "run the following r script"
   ]
  },
  {
   "cell_type": "markdown",
   "id": "dd6a91d0-f0e9-446c-8ad8-2c701e167b8e",
   "metadata": {},
   "source": [
    "`Rscript map_metanalysis_gene_wise_to_drug_wise.R 1 3222` "
   ]
  },
  {
   "cell_type": "markdown",
   "id": "16247465-21b1-46bc-9af7-2f4c0498d954",
   "metadata": {},
   "source": [
    "#### Transpose all data in parallel:"
   ]
  },
  {
   "cell_type": "code",
   "execution_count": null,
   "id": "822ff716-b65b-4b7b-9910-70c636679874",
   "metadata": {},
   "outputs": [],
   "source": [
    "import subprocess"
   ]
  },
  {
   "cell_type": "code",
   "execution_count": null,
   "id": "51830664-4f06-4f2c-a3bb-c98c70ac8321",
   "metadata": {},
   "outputs": [],
   "source": [
    "# parallel execution of 31 Rscrpits of map_metanalysis_gene_wise_to_drug_wise\n",
    "# each of them iterating over 100 drugs at a time \n",
    "n=1\n",
    "for i in range(30):\n",
    "    string='Rscript map_metanalysis_gene_wise_to_drug_wise.R ' + str(n) + ' ' + str(n+99)\n",
    "    print(string)\n",
    "    subprocess.Popen(['Rscript','map_metanalysis_gene_wise_to_drug_wise.R',str(n), str(n+99)])\n",
    "    n+=100\n",
    "    \n",
    "\n",
    "subprocess.Popen(['Rscript','map_metanalysis_gene_wise_to_drug_wise.R','3001','3222'])"
   ]
  },
  {
   "cell_type": "markdown",
   "id": "40d27d58-5deb-4400-970c-623222c57eda",
   "metadata": {},
   "source": [
    "Output:\n",
    " 1) drug wise metanalysis file in .Rds format\n",
    " 2) 3222*3  drug-wise MITHrIL input files \\<DRUGNAME\\>_\\<timepoint\\>.mi. These files are saved into MITHrIL/input/drug_signature/"
   ]
  },
  {
   "cell_type": "markdown",
   "id": "67e0246f-6e35-48b6-a1b5-6a0316620c58",
   "metadata": {},
   "source": [
    "### Merge all drug data into one matrix\n",
    "\n",
    "source: step5_mith2_to_mith3_durg_input.py\n"
   ]
  },
  {
   "cell_type": "code",
   "execution_count": 2,
   "id": "515fc7bb-e8c1-4f06-a5eb-fcd234044238",
   "metadata": {},
   "outputs": [],
   "source": [
    "import os\n",
    "import pandas as pd\n",
    "from conf import MITH_IN_DRUG, alias_2geneid"
   ]
  },
  {
   "cell_type": "code",
   "execution_count": 3,
   "id": "71cf44a8-1de4-46ca-8958-ff5f0e9e5b96",
   "metadata": {},
   "outputs": [
    {
     "name": "stdout",
     "output_type": "stream",
     "text": [
      "ibuprofen_6h\n",
      "(10174, 1)\n",
      "ibuprofen_24h\n",
      "(10174, 1)\n",
      "ibuprofen_6h_24h\n",
      "(10174, 1)\n",
      "4-carboxy-3-hydroxyphenylglycine-(RS)_24h\n",
      "(10174, 1)\n",
      "4-carboxy-3-hydroxyphenylglycine-(RS)_6h\n",
      "(10174, 1)\n",
      "4-carboxy-3-hydroxyphenylglycine-(RS)_6h_24h\n",
      "(10174, 1)\n",
      "(10174, 6)\n",
      "Index(['ibuprofen_6h', 'ibuprofen_24h', 'ibuprofen_6h_24h',\n",
      "       '4-carboxy-3-hydroxyphenylglycine-(RS)_24h',\n",
      "       '4-carboxy-3-hydroxyphenylglycine-(RS)_6h',\n",
      "       '4-carboxy-3-hydroxyphenylglycine-(RS)_6h_24h'],\n",
      "      dtype='object')\n",
      "        ibuprofen_6h  ibuprofen_24h  ibuprofen_6h_24h  \\\n",
      "A2M        -0.139099       0.098812         -0.044305   \n",
      "A4GALT      0.017596       0.108390          0.057804   \n",
      "AAAS        0.006481      -0.038132         -0.013903   \n",
      "\n",
      "        4-carboxy-3-hydroxyphenylglycine-(RS)_24h  \\\n",
      "A2M                                     -0.047952   \n",
      "A4GALT                                   0.024746   \n",
      "AAAS                                     0.023565   \n",
      "\n",
      "        4-carboxy-3-hydroxyphenylglycine-(RS)_6h  \\\n",
      "A2M                                    -0.218899   \n",
      "A4GALT                                 -0.062298   \n",
      "AAAS                                    0.112122   \n",
      "\n",
      "        4-carboxy-3-hydroxyphenylglycine-(RS)_6h_24h  \n",
      "A2M                                        -0.142385  \n",
      "A4GALT                                     -0.022456  \n",
      "AAAS                                        0.067207  \n"
     ]
    }
   ],
   "source": [
    "df_list=[]\n",
    "for mi2 in os.listdir(MITH_IN_DRUG):\n",
    "    drug_condition_name=mi2.rstrip('.mi')\n",
    "    if not drug_condition_name.startswith('LINCS'):\n",
    "        print(drug_condition_name)\n",
    "        df=pd.read_csv(MITH_IN_DRUG+mi2,sep='\\t',header=None,index_col=0, names=[drug_condition_name])\n",
    "        print(df.shape)\n",
    "        df_list.append(df)\n",
    "\n",
    "matrix=pd.concat(df_list, axis=1)\n",
    "print(matrix.shape)\n",
    "print(matrix.columns)\n",
    "print(matrix.head(3))"
   ]
  },
  {
   "cell_type": "markdown",
   "id": "43bd3cd5-152e-41bd-b939-1f859e51a121",
   "metadata": {},
   "source": [
    "### Filter data by gene ID"
   ]
  },
  {
   "cell_type": "code",
   "execution_count": 4,
   "id": "cf96672e-894f-4d66-aa2a-d327ad13db15",
   "metadata": {},
   "outputs": [],
   "source": [
    "def map_name_to_id(genename):\n",
    "    if genename in alias_2geneid.keys():\n",
    "        return alias_2geneid[genename]\n",
    "    return genename\n",
    "matrix.index=matrix.reset_index()['index'].apply(lambda x : map_name_to_id(x))"
   ]
  },
  {
   "cell_type": "code",
   "execution_count": 5,
   "id": "8b232490-d520-4097-8fa6-4eac4d43d398",
   "metadata": {},
   "outputs": [
    {
     "name": "stdout",
     "output_type": "stream",
     "text": [
      "MITHrIL drug input saved in G:\\Il mio Drive\\unict 2024-25\\drug_repurposing\\MITHrIL\\input\\drug_signature\\ filename: LINCS_metanalysis.mi\n"
     ]
    }
   ],
   "source": [
    "# Save MITHrIL gene id based input file:\n",
    "LINCS_metanalysis_filename_id='LINCS_metanalysis.mi'\n",
    "matrix.to_csv(MITH_IN_DRUG+LINCS_metanalysis_filename_id,sep='\\t', index=True,  index_label=False)\n",
    "print('MITHrIL drug input saved in',MITH_IN_DRUG,'filename:',LINCS_metanalysis_filename_id)"
   ]
  },
  {
   "cell_type": "markdown",
   "id": "6a5e9813-7829-4ab9-a6f5-b31a5b330a18",
   "metadata": {},
   "source": [
    "example file output:\n",
    "\n",
    "```\n",
    "drug1      drug2      drug3  \n",
    "g_id1    v1         v2         v3  \n",
    "g_id2    v1         v2         v3  \n",
    "```\n",
    " \n"
   ]
  },
  {
   "cell_type": "markdown",
   "id": "d6f30bbe-02b3-453c-9e52-a097158bf177",
   "metadata": {},
   "source": [
    "notice that gene ID header column is not present"
   ]
  },
  {
   "cell_type": "markdown",
   "id": "bcb79534-03f0-4ace-a003-ae2a8c23880c",
   "metadata": {},
   "source": [
    "## <b>MITHrIL batch run</b>\n",
    "Run MITHrIL in batch version. This is useful to run several instances of MITHrIL at the same time with one input file. See function below for a list of MITHrIL batch parameters\n",
    "\n",
    "source code: step6_drug_run_MITHrIL.py"
   ]
  },
  {
   "cell_type": "code",
   "execution_count": 3,
   "id": "5482237e-5e01-441c-8d9d-2681c313a7ec",
   "metadata": {},
   "outputs": [],
   "source": [
    "import subprocess\n",
    "from conf import MITH_APP, MITH_OUT_DRUG, MITH_IN_DRUG"
   ]
  },
  {
   "cell_type": "code",
   "execution_count": 6,
   "id": "4ca58066-50b3-4aa0-9104-a4f97b423dba",
   "metadata": {},
   "outputs": [],
   "source": [
    "def run_mithril_batch( MITH_APP, MITH_IN_DRUG, MITH_OUT_DRUG, organism='hsa_v2023_03',\n",
    "                 n_thread=\"30\", verbose=True, printc=True):\n",
    "    '''\n",
    "    MITHrIL batch parameters:\n",
    "    -organism: hsa_v2023_03 organism version used in this experiment. For most \n",
    "            up-to-date version, use default 'hsa'. for a list of all available\n",
    "            organisms, type:\n",
    "            java -jar MITH_APP organisms\n",
    "\n",
    "    -reactome: also use reactome network\n",
    "    -seed: random seed for replicability\n",
    "    -p a flag (unlike non-batch version) to create perturbation file\n",
    "    -customize-pathway-matrix : calcola alcone cose come mithril 2. va messo\n",
    "    -inversion-factory fast-cpu : accelereate calculation with fast-cpu library\n",
    "    -multiplication-factory fast-cpu : accelereate calculation with fast-cpu library\n",
    "    -t : number of threads\n",
    "    -o : output directory (unlike non-batch version, where is output name)'''\n",
    "    \n",
    "    command = [\n",
    "        \"java\", \"-jar\", MITH_APP,\n",
    "        \"mithril-batch\", \"-reactome\", \"-p\", \"-customize-pathway-matrix\",\n",
    "        \"-seed\", \"1234\", \"-inversion-factory\", \"fast-cpu\", \"-multiplication-factory\", \"fast-cpu\",\n",
    "        \"-t\", n_thread, \"-organism\", organism,\n",
    "        \"-i\", f\"{MITH_IN_DRUG}LINCS_metanalysis.mi \",\n",
    "        \"-o\", f\"{MITH_OUT_DRUG}\",\n",
    "        \"-p\"\n",
    "    ]\n",
    "\n",
    "    if verbose:\n",
    "        command.append(\"-verbose\")\n",
    "    \n",
    "    if printc:\n",
    "        print(' '.join(command))\n",
    "        return \n",
    "    else:\n",
    "        process = subprocess.Popen(command, stdout=subprocess.PIPE, stderr=subprocess.PIPE, text=True)\n",
    "        \n",
    "        for line in process.stdout:\n",
    "            print(line, end=\"\")\n",
    "        for line in process.stderr:\n",
    "            print(line, end=\"\")\n",
    "    \n",
    "        process.wait()\n",
    "    \n",
    "        return process.returncode"
   ]
  },
  {
   "cell_type": "markdown",
   "id": "cd9934d7-df60-4a3a-bf9b-f5771bcd9f30",
   "metadata": {},
   "source": [
    "### Run MITHrIL from command line:"
   ]
  },
  {
   "cell_type": "code",
   "execution_count": 7,
   "id": "b68614d8-63b6-4b1c-bc1f-4b2061501e0a",
   "metadata": {},
   "outputs": [
    {
     "name": "stdout",
     "output_type": "stream",
     "text": [
      "java -jar /home/signorini/mithril3/app-3.0.0-SNAPSHOT.jar mithril-batch -reactome -p -customize-pathway-matrix -seed 1234 -inversion-factory fast-cpu -multiplication-factory fast-cpu -t 30 -organism hsa_v2023_03 -i G:\\Il mio Drive\\unict 2024-25\\drug_repurposing\\MITHrIL\\input\\drug_signature\\LINCS_metanalysis.mi  -o G:\\Il mio Drive\\unict 2024-25\\drug_repurposing\\MITHrIL\\output\\drug_signature\\ -p -verbose\n"
     ]
    }
   ],
   "source": [
    "run_mithril_batch(MITH_APP, MITH_IN_DRUG, MITH_OUT_DRUG, n_thread=\"30\", printc=True)\n"
   ]
  },
  {
   "cell_type": "markdown",
   "id": "ed7b9dbb-0808-4b54-bfb8-692191f3aee8",
   "metadata": {},
   "source": [
    "### Run MITHrIL from this notebook:\n",
    "WARNING: running from notebook will not print any output until completion, which may take a long time. It is recomended to run from command line\n"
   ]
  },
  {
   "cell_type": "code",
   "execution_count": null,
   "id": "b8ae3ab5-8b97-4c8e-80d0-b558372fe916",
   "metadata": {},
   "outputs": [],
   "source": [
    "run_mithril_batch(MITH_APP, MITH_IN_DRUG, MITH_OUT_DRUG, n_thread=\"30\", printc=False)"
   ]
  },
  {
   "cell_type": "markdown",
   "id": "3d6f631d-7926-4d19-b1e6-dccb7f98575d",
   "metadata": {},
   "source": [
    "## <b>Convert drug mithril output into connectivity score calculation input</b>\n",
    "\n",
    "Convert the MITHrIL perturbation output into connectivity score signature inputs.\n",
    "\n",
    "WARNING: Slow step. Parallelization recomended\n",
    "\n",
    "\n",
    "source code: step7_drug_mith_out_to_cs_in.py\n"
   ]
  },
  {
   "cell_type": "code",
   "execution_count": 7,
   "id": "94cc0c70-57dd-4fe9-b903-2ba95c23df6d",
   "metadata": {},
   "outputs": [
    {
     "name": "stdout",
     "output_type": "stream",
     "text": [
      "2\n"
     ]
    }
   ],
   "source": [
    "from joblib import Parallel, delayed\n",
    "from preprocessing_utils import get_drugs_list, get_chunk_indexes\n",
    "from step7_drug_mith_out_to_cs_in import mith_out_to_cs_in\n",
    "\n",
    "\n",
    "drugs_list=get_drugs_list()\n",
    "print(len(drugs_list))"
   ]
  },
  {
   "cell_type": "markdown",
   "id": "cfe929d6-29ea-4f27-81a0-11c09b6452d4",
   "metadata": {},
   "source": [
    "### <b> Optional: check for file name inconsistencies between MITHrIL input and output\n",
    "MITHrIL re-writes all file names that contain characters which are not\n",
    "alphanumeric, '_', or '-', for safety reasons.\n",
    "\n",
    "Run this to recuperate original file names, if needed:\n"
   ]
  },
  {
   "cell_type": "code",
   "execution_count": null,
   "id": "e8efc211-9532-48b4-b2fa-9448f2533c91",
   "metadata": {},
   "outputs": [],
   "source": [
    "#Renames mith3 output files by recovering oringinal characters from input files\n",
    "import os\n",
    "if not os.getcwd().endswith('modules'):\n",
    "    os.chdir('modules')\n",
    "import pickle\n",
    "import re\n",
    "from conf import MITH_IN_DRUG, MITH_OUT_DRUG\n",
    "\n",
    "\n",
    "#%% check diff between mith3 input and putout filenames\n",
    "print('mith3 batch output filename bug: some filenames with special characters\\\n",
    "      differ from input to output')\n",
    "\n",
    "mith_in_drug_names=set([n.split('.')[0] for n in os.listdir(MITH_IN_DRUG)])\n",
    "\n",
    "def mithril_string_replace(input_string):\n",
    "    pattern = r'[^a-zA-Z0-9_-]'#r'[^a-zA-Z0-9-]'\n",
    "    \n",
    "    # Replace matching characters with a dash\n",
    "    replaced_string = re.sub(pattern, '-', input_string)\n",
    "    \n",
    "    return replaced_string\n",
    "\n",
    "# print('does not work with this drug, but ok', mithril_string_replace('5\\'-guanidinonaltrindole_24h'))\n",
    "\n",
    "bad_to_good={mithril_string_replace(good):good for good in mith_in_drug_names}\n",
    "\n",
    "for filename in os.listdir(MITH_OUT_DRUG):\n",
    "    for bad_name, good_name in bad_to_good.items():\n",
    "        if bad_name in filename:\n",
    "            good_filename=filename.replace(bad_name, good_name)\n",
    "            os.rename(MITH_OUT_DRUG+filename,MITH_OUT_DRUG+good_filename)\n",
    "            print(filename,'changed to', good_filename, 'after')\n",
    "            break\n",
    "\n",
    "#%% \n",
    "print('performing final check. Anything printed is not found in output directory.\\n should only print LINCS files:\\n')\n",
    "mith_in_drug_names=[n.split('.')[0] for n in os.listdir(MITH_IN_DRUG)]\n",
    "mith_out_drug_names=[n.split('.')[0] for n in os.listdir(MITH_OUT_DRUG)]\n",
    "\n",
    "for infile in mith_in_drug_names:\n",
    "    if not infile in mith_out_drug_names:\n",
    "        print(infile)"
   ]
  },
  {
   "cell_type": "markdown",
   "id": "48ccd1c2-aa72-4718-9ca2-4b103ae0393a",
   "metadata": {},
   "source": [
    "### Iterative run:"
   ]
  },
  {
   "cell_type": "code",
   "execution_count": 6,
   "id": "aefd1ade-2ed0-45ac-bb62-1ae40ab4c2fa",
   "metadata": {},
   "outputs": [
    {
     "name": "stdout",
     "output_type": "stream",
     "text": [
      "Mapping mith3 output into tsr connectivity input: \n",
      "              Removing pathway duplicates, Merging three timepoint datasets in a single file and filtering \n",
      "ibuprofen 2 of 2\n",
      "drug ibuprofen processed in 9.5\n",
      "writing mit3 connectivity input metanalysis files for drug ibuprofen\n",
      "time elapsed: 9.583737850189209\n"
     ]
    }
   ],
   "source": [
    "mith_out_to_cs_in(drugs_list, save_csv=False)\n"
   ]
  },
  {
   "cell_type": "markdown",
   "id": "21dd9f16-ab5e-4060-8197-91ec4c12033a",
   "metadata": {},
   "source": [
    "### Parallel run:"
   ]
  },
  {
   "cell_type": "code",
   "execution_count": 8,
   "id": "31ec25bb-4be2-4ab1-8c57-79f0fddb4c8b",
   "metadata": {},
   "outputs": [],
   "source": [
    "# set n of cores\n",
    "n_jobs=2\n",
    "if n_jobs>len(drugs_list):\n",
    "    raise ValueError('n_jobs > len(drugs_list)! Reduce size of n_jobs')\n",
    "\n",
    "# get chunk size\n",
    "chunk_size=int(len(drugs_list)/n_jobs)\n",
    "last_chunk_size=len(drugs_list)%n_jobs\n",
    "\n",
    "parallel_indexes=[]\n",
    "for i in range(n_jobs):\n",
    "    i1,i2=get_chunk_indexes(i, chunk_size)\n",
    "    parallel_indexes.append((i1,i2))\n",
    "\n",
    "results = Parallel(n_jobs=n_jobs)(delayed(mith_out_to_cs_in)\\\n",
    "                             (drugs_list, i1, i2,save_csv=False)\\\n",
    "                        for i1,i2 in parallel_indexes)\n",
    "\n",
    "# Run last chunk if rest of division != 0:\n",
    "if last_chunk_size!=0:\n",
    "    mith_out_to_cs_in(drugs_list, i1, i2,save_csv=False)"
   ]
  },
  {
   "cell_type": "markdown",
   "id": "3653f461-be9d-4b31-ac15-7d02d657adb8",
   "metadata": {},
   "source": [
    "# <div align=\"center\"><b> Optional: Filter drug fold change data for connectivity score calculation</b>\n",
    "Optional step, to calculate connectivity score on FC data for drugs.\n",
    "Filters FC data for unique gene filters\n"
   ]
  },
  {
   "cell_type": "code",
   "execution_count": null,
   "id": "63ab1e5e-98c3-431d-807c-417502cf0871",
   "metadata": {},
   "outputs": [],
   "source": []
  },
  {
   "cell_type": "markdown",
   "id": "ddc3aa98-e688-4da6-a602-431c03c7edc0",
   "metadata": {
    "jp-MarkdownHeadingCollapsed": true
   },
   "source": [
    "## ADDITIONAL STEP to filter data inside metanalysis_drug_wise, because they are unfortunately still DEG data with non unique gnee filters, run the dedicated section inside preproc_utils.py, create a folder called metanalysis_drug_wise_filtered, and then zip the folder metanalysis_drug_wise.\n",
    "## e anche 7_filter blalablabla è fatto allo stesso modo se si volesse usare il DEG\n"
   ]
  },
  {
   "cell_type": "markdown",
   "id": "058574aa-d214-4445-b86c-9a76c4f2f967",
   "metadata": {},
   "source": [
    "# <div align=\"center\"><b>Calculate connectivity score</b>\n",
    "\n",
    "source code: connectivity_score.py"
   ]
  },
  {
   "cell_type": "code",
   "execution_count": 2,
   "id": "023bda5a-9175-4d1d-8dca-d646baecb100",
   "metadata": {},
   "outputs": [
    {
     "name": "stdout",
     "output_type": "stream",
     "text": [
      "ipf\n"
     ]
    }
   ],
   "source": [
    "from conf import DISEASE, CS_OUT\n",
    "from preprocessing_utils import get_drugs_list, get_chunk_indexes\n",
    "from connectivity_score import get_common_genes, bin_chen_connectivity\n",
    "from loader import load_disease_signature, load_single_drug_signature\n",
    "\n",
    "from joblib import Parallel, delayed\n",
    "import pandas as pd\n",
    "import numpy as np\n",
    "from scipy import stats\n",
    "import time\n",
    "print(DISEASE)"
   ]
  },
  {
   "cell_type": "code",
   "execution_count": 3,
   "id": "268d0cb8-beb8-42f9-8ae2-b4c841dd964a",
   "metadata": {},
   "outputs": [],
   "source": [
    "# Connectivity score functions\n",
    "def run_connectivity_score(DISEASE, mith, drug, pert_time='6h_24h'):\n",
    "    '''\n",
    "    wrapper function to load disease and drug data (for one drug), \n",
    "    and calculate their connectivity score.\n",
    "    '''\n",
    "    singature_uom = 'DE_log2_FC' if not mith else 'Perturbation'\n",
    "    # load disease signature:\n",
    "    disease_signature=load_disease_signature(DISEASE, mith=mith)\n",
    "    disease_signature=disease_signature[['gene_id', singature_uom, 'adj.p.value']]\n",
    "    drug_signature=load_single_drug_signature(drug, mith=mith)\n",
    "    disease_common_index, drug_common_index = get_common_genes(disease_signature, drug_signature)  \n",
    "    \n",
    "    # filter disease signature with common genes:\n",
    "    disease_signature=disease_signature.iloc[disease_common_index].reset_index(drop=True)\n",
    "    print('common disease genes', len(disease_signature))\n",
    "    # load drug signature\n",
    "    p_val_str= 'adj.p.value' if not pert_time=='6h_24h' else 'p.value'\n",
    "    columns_of_interest=['gene_id', singature_uom+'_'+pert_time, p_val_str+'_'+pert_time]\n",
    "    cscore, p_value = bin_chen_connectivity(disease_signature, drug_signature[columns_of_interest], rank_on='magnitude')\n",
    "    print(cscore, p_value)\n",
    "    return cscore, p_value\n",
    "\n",
    "\n",
    "def run_connectivity_score_drugs_batch(DISEASE, mith, drugs_list, pert_times, i1, i2, rank_on='magnitude', save_file=False):\n",
    "    '''\n",
    "    wrapper function to load disease and drug data (for a  batch of drugs in drugs_list[i1:i2]), \n",
    "    and calculate their connectivity score. Also calculates Pearson correlation\n",
    "    coefficient, Spearman correlation coefficient, and cosine similarity, between\n",
    "    disease and drug.\n",
    "    Output: a dataframe of connectivity scores and  pvalues, for all combinations of conditions\n",
    "    '''\n",
    "    start=time.time()\n",
    "    print(    '''calculates connectivity score between a disease and all LINCS database drugs, for given drugs\n",
    "        and given drug perturbation times. \n",
    "        Output: a dataframe of connectivity scores and  pvalues, for all combinations of conditions''')\n",
    "    \n",
    "    \n",
    "    singature_uom = 'DE_log2_FC' if not mith else 'Perturbation'\n",
    "    \n",
    "    \n",
    "    print('mith tag:', mith, '\\ndisease:', DISEASE)\n",
    "    \n",
    "    # load disease signature:\n",
    "    disease_signature=load_disease_signature(DISEASE, mith=mith)\n",
    "    disease_signature=disease_signature[['gene_id', singature_uom, 'adj.p.value']]\n",
    "    \n",
    "    \n",
    "    # Discard disease genes that are \n",
    "    # not found in drug genes\n",
    "    # DO NOT simply select common genes, as this would impact\n",
    "    # connectrivity calculations\n",
    "        #load one drug signature (all durg signatures have the same genes in the same order)\n",
    "    drug_signature=load_single_drug_signature('ibuprofen', mith=mith)\n",
    "    \n",
    "    disease_common_index, drug_common_index = get_common_genes(disease_signature, drug_signature)  \n",
    "\n",
    "    \n",
    "    # filter disease signature with common genes:\n",
    "    # Note: indexing every time with pandas .iloc is slower than writing\n",
    "    # and loading binaries for filtered dataframes, for each drug\n",
    "    # however this is not relevant, as we only need to filter\n",
    "    # disease data, while we can take all drug data.\n",
    "    disease_signature=disease_signature.iloc[disease_common_index].reset_index(drop=True)\n",
    "    print('common disease genes', len(disease_signature))\n",
    "    \n",
    "\n",
    "    \n",
    "    # Initialize dataframe:\n",
    "    data = []\n",
    "    \n",
    "    \n",
    "    # Calculate connectivity score between disease and drugs:     \n",
    "    for drug in drugs_list[i1:i2]:\n",
    "        print(drug)\n",
    "        \n",
    "        # load drug signature\n",
    "        \n",
    "        drug_signature=load_single_drug_signature(drug, mith=mith)\n",
    "        \n",
    "        for pert_time in pert_times:\n",
    "            print(pert_time)\n",
    "            \n",
    "            # Calculate connectivity score between drug and disease:\n",
    "            \n",
    "            # select columns of interest:\n",
    "            \n",
    "            p_val_str= 'adj.p.value' if not pert_time=='6h_24h' else 'p.value'\n",
    "            columns_of_interest=['gene_id', singature_uom+'_'+pert_time, p_val_str+'_'+pert_time]\n",
    "            cscore, p_value = bin_chen_connectivity(disease_signature, drug_signature[columns_of_interest], rank_on=rank_on)\n",
    "            \n",
    "            # Calculate other correlations (between common genes)\n",
    "            disease_signature_signature=disease_signature[singature_uom]\n",
    "            drug_signature_signature=drug_signature[singature_uom+'_'+pert_time].loc[drug_common_index]\n",
    "            pearson=stats.pearsonr(disease_signature_signature, drug_signature_signature)\n",
    "            spearman=stats.spearmanr(disease_signature_signature, drug_signature_signature)\n",
    "            cosine_sim=np.dot(np.array(disease_signature_signature),np.array(drug_signature_signature))/(np.linalg.norm(np.array(disease_signature_signature))*np.linalg.norm(np.array(drug_signature_signature)))\n",
    "            \n",
    "            data.append([DISEASE, drug, pert_time, cscore, p_value, pearson[0], pearson[1], spearman[0], spearman[1], cosine_sim]) # other correlations, genes subset\n",
    "                \n",
    "    \n",
    "    connectivity_data= pd.DataFrame(data, columns=[\"disease\",\"drug\",\"perturbation_time\",\"connectivity_score\",\"cs_p_value\",'pearson','pearson_p_value','spearman','spearman_p_value','cos_sim']) #add other correlations, genes subset\n",
    "    print(connectivity_data)\n",
    "    \n",
    "    # save connectivity scores\n",
    "    if save_file:\n",
    "        if not os.path.exists(CS_OUT):\n",
    "            os.mkdir(CS_OUT)\n",
    "        connectivity_dataset_filename=CS_OUT+str(i1)+'_'+str(i2)+'_DEG_connectivity_score.tsv' if not mith else  CS_OUT+str(i1)+'_'+str(i2)+'_mith_connectivity_score.tsv'\n",
    "        connectivity_data.to_csv(connectivity_dataset_filename, sep='\\t', index=False)\n",
    "    \n",
    "    print('total elapsed time for', len(drugs_list[i1:i2]),' drugs: ', time.time()-start)\n",
    "    return connectivity_data"
   ]
  },
  {
   "cell_type": "markdown",
   "id": "c8457ae9-1d2b-4362-9833-2295d7c1415c",
   "metadata": {},
   "source": [
    "## <b>Iterative run of connectivity score for a list of drugs"
   ]
  },
  {
   "cell_type": "code",
   "execution_count": 4,
   "id": "8d6649bb-8eb4-4ac2-bf0b-b6ccefaa6343",
   "metadata": {},
   "outputs": [],
   "source": [
    "# Parameters:\n",
    "\n",
    "drugs_list=get_drugs_list()\n",
    "\n",
    "# Flag to decide which kind of data to calculate the connectivity score on  (0 (or False):DEG data, 1 (or True):mithril data, default: 1)\n",
    "# if mith=0, a connectivity score will be calculated on normal fold change data, without the propagation step. \n",
    "# This can be useful to compare results.\n",
    "mith=1\n",
    "\n",
    "# Drug data perturbation time. (a list of either of:'6h','24h', '6h_24h' default: 6h_24h: metanalysis)\n",
    "# optional: can input a list of more than one drug perturbation times.\n",
    "pert_times=['6h','24h','6h_24h']"
   ]
  },
  {
   "cell_type": "code",
   "execution_count": 6,
   "id": "b5b3d5d6-906c-4410-a2bd-dab5b9a25a85",
   "metadata": {},
   "outputs": [
    {
     "name": "stdout",
     "output_type": "stream",
     "text": [
      "4-carboxy-3-hydroxyphenylglycine-(RS)\n",
      "6h\n",
      "common disease genes 14812\n",
      "-1.978546401190291 0.275\n",
      "24h\n",
      "common disease genes 14812\n",
      "0.027882984500222086 0.51\n",
      "6h_24h\n",
      "common disease genes 14812\n",
      "0.007309418415434088 0.73\n",
      "ibuprofen\n",
      "6h\n",
      "common disease genes 14812\n",
      "-1.9907835445592517 0.023\n",
      "24h\n",
      "common disease genes 14812\n",
      "-1.9856725393286072 0.108\n",
      "6h_24h\n",
      "common disease genes 14812\n",
      "-0.00925288736031904 0.654\n"
     ]
    }
   ],
   "source": [
    "for drug in drugs_list:\n",
    "    print(drug)\n",
    "    for pert_time in pert_times:\n",
    "        print(pert_time)\n",
    "        cscore, p_value = run_connectivity_score(DISEASE, mith,drug, pert_time)"
   ]
  },
  {
   "cell_type": "markdown",
   "id": "940254bb-e36f-4d75-8fb1-9c630181a0d8",
   "metadata": {},
   "source": [
    "## <b>CPU parallel run of connectivity score for a list of drugs"
   ]
  },
  {
   "cell_type": "code",
   "execution_count": 29,
   "id": "9c7abb00-eafe-40be-8ee4-ea253f5dbc91",
   "metadata": {},
   "outputs": [
    {
     "name": "stdout",
     "output_type": "stream",
     "text": [
      "n jobs 2\n",
      "len drug list 2\n",
      "chunk size 1\n",
      "last chunk size 0\n"
     ]
    }
   ],
   "source": [
    "# get drugs list\n",
    "drugs_list=get_drugs_list()\n",
    "# set perturbation times\n",
    "pert_times=['6h','24h','6h_24h']\n",
    "\n",
    "# Set calculation for MITHrIL data\n",
    "mith=1\n",
    "\n",
    "# set n of cores for parallel execution\n",
    "n_jobs= 2 #16\n",
    "if n_jobs>len(drugs_list):\n",
    "    raise ValueError('n_jobs > len(drugs_list)! Reduce size of n_jobs')\n",
    "\n",
    "# get chunk size\n",
    "chunk_size=int(len(drugs_list)/n_jobs)\n",
    "last_chunk_size=len(drugs_list)%n_jobs\n",
    "\n",
    "parallel_indexes=[]\n",
    "for i in range(n_jobs):\n",
    "    i1,i2=get_chunk_indexes(i, chunk_size)\n",
    "    parallel_indexes.append((i1,i2))\n",
    "\n",
    "\n",
    "print('n jobs', n_jobs)\n",
    "print('len drug list', len(drugs_list))\n",
    "print('chunk size',chunk_size)\n",
    "print('last chunk size', last_chunk_size)\n",
    "#run_connectivity_score_drugs_batch(DISEASE, mith, drugs_list, pert_times, i1, i2)\n",
    "results = Parallel(n_jobs=n_jobs)(delayed(run_connectivity_score_drugs_batch)\\\n",
    "                             (DISEASE, mith, drugs_list, pert_times, i1, i2)\\\n",
    "                        for i1,i2 in parallel_indexes)\n",
    "\n",
    "if last_chunk_size>0:\n",
    "    last_batch=run_connectivity_score_drugs_batch(DISEASE, mith, drugs_list, pert_times, i2,len(drugs_list))\n",
    "    results.append(last_batch)\n",
    "\n",
    "# build dataframe    \n",
    "cs_df=pd.concat(results)\n",
    "\n",
    "# write results\n",
    "if not os.path.exists(CS_OUT):\n",
    "            os.mkdir(CS_OUT)\n",
    "connectivity_dataset_filename=CS_OUT+'DEG_connectivity_score.tsv' if not mith else  CS_OUT+'mith_connectivity_score.tsv'\n",
    "\n",
    "cs_df.to_csv(connectivity_dataset_filename, sep='\\t', index=False)\n"
   ]
  },
  {
   "cell_type": "code",
   "execution_count": 30,
   "id": "2772e82f-c5fd-46d7-ab91-73217132dc68",
   "metadata": {},
   "outputs": [
    {
     "data": {
      "text/html": [
       "<div>\n",
       "<style scoped>\n",
       "    .dataframe tbody tr th:only-of-type {\n",
       "        vertical-align: middle;\n",
       "    }\n",
       "\n",
       "    .dataframe tbody tr th {\n",
       "        vertical-align: top;\n",
       "    }\n",
       "\n",
       "    .dataframe thead th {\n",
       "        text-align: right;\n",
       "    }\n",
       "</style>\n",
       "<table border=\"1\" class=\"dataframe\">\n",
       "  <thead>\n",
       "    <tr style=\"text-align: right;\">\n",
       "      <th></th>\n",
       "      <th>disease</th>\n",
       "      <th>drug</th>\n",
       "      <th>perturbation_time</th>\n",
       "      <th>connectivity_score</th>\n",
       "      <th>cs_p_value</th>\n",
       "      <th>pearson</th>\n",
       "      <th>pearson_p_value</th>\n",
       "      <th>spearman</th>\n",
       "      <th>spearman_p_value</th>\n",
       "      <th>cos_sim</th>\n",
       "    </tr>\n",
       "  </thead>\n",
       "  <tbody>\n",
       "    <tr>\n",
       "      <th>0</th>\n",
       "      <td>ipf</td>\n",
       "      <td>4-carboxy-3-hydroxyphenylglycine-(RS)</td>\n",
       "      <td>6h</td>\n",
       "      <td>-1.978546</td>\n",
       "      <td>0.270</td>\n",
       "      <td>0.024081</td>\n",
       "      <td>0.003380</td>\n",
       "      <td>0.072649</td>\n",
       "      <td>8.546200e-19</td>\n",
       "      <td>0.039495</td>\n",
       "    </tr>\n",
       "    <tr>\n",
       "      <th>1</th>\n",
       "      <td>ipf</td>\n",
       "      <td>4-carboxy-3-hydroxyphenylglycine-(RS)</td>\n",
       "      <td>24h</td>\n",
       "      <td>0.027883</td>\n",
       "      <td>0.476</td>\n",
       "      <td>0.008465</td>\n",
       "      <td>0.302960</td>\n",
       "      <td>-0.041937</td>\n",
       "      <td>3.295569e-07</td>\n",
       "      <td>-0.002157</td>\n",
       "    </tr>\n",
       "    <tr>\n",
       "      <th>2</th>\n",
       "      <td>ipf</td>\n",
       "      <td>4-carboxy-3-hydroxyphenylglycine-(RS)</td>\n",
       "      <td>6h_24h</td>\n",
       "      <td>0.007309</td>\n",
       "      <td>0.705</td>\n",
       "      <td>0.022748</td>\n",
       "      <td>0.005628</td>\n",
       "      <td>0.010434</td>\n",
       "      <td>2.041764e-01</td>\n",
       "      <td>0.025380</td>\n",
       "    </tr>\n",
       "    <tr>\n",
       "      <th>0</th>\n",
       "      <td>ipf</td>\n",
       "      <td>ibuprofen</td>\n",
       "      <td>6h</td>\n",
       "      <td>-1.990784</td>\n",
       "      <td>0.026</td>\n",
       "      <td>0.002870</td>\n",
       "      <td>0.726875</td>\n",
       "      <td>-0.031195</td>\n",
       "      <td>1.463699e-04</td>\n",
       "      <td>-0.002662</td>\n",
       "    </tr>\n",
       "    <tr>\n",
       "      <th>1</th>\n",
       "      <td>ipf</td>\n",
       "      <td>ibuprofen</td>\n",
       "      <td>24h</td>\n",
       "      <td>-1.985673</td>\n",
       "      <td>0.093</td>\n",
       "      <td>-0.025855</td>\n",
       "      <td>0.001650</td>\n",
       "      <td>-0.073964</td>\n",
       "      <td>1.998416e-19</td>\n",
       "      <td>-0.037218</td>\n",
       "    </tr>\n",
       "    <tr>\n",
       "      <th>2</th>\n",
       "      <td>ipf</td>\n",
       "      <td>ibuprofen</td>\n",
       "      <td>6h_24h</td>\n",
       "      <td>-0.009253</td>\n",
       "      <td>0.654</td>\n",
       "      <td>-0.019270</td>\n",
       "      <td>0.019014</td>\n",
       "      <td>-0.072559</td>\n",
       "      <td>9.430880e-19</td>\n",
       "      <td>-0.031469</td>\n",
       "    </tr>\n",
       "  </tbody>\n",
       "</table>\n",
       "</div>"
      ],
      "text/plain": [
       "  disease                                   drug perturbation_time  \\\n",
       "0     ipf  4-carboxy-3-hydroxyphenylglycine-(RS)                6h   \n",
       "1     ipf  4-carboxy-3-hydroxyphenylglycine-(RS)               24h   \n",
       "2     ipf  4-carboxy-3-hydroxyphenylglycine-(RS)            6h_24h   \n",
       "0     ipf                              ibuprofen                6h   \n",
       "1     ipf                              ibuprofen               24h   \n",
       "2     ipf                              ibuprofen            6h_24h   \n",
       "\n",
       "   connectivity_score  cs_p_value   pearson  pearson_p_value  spearman  \\\n",
       "0           -1.978546       0.270  0.024081         0.003380  0.072649   \n",
       "1            0.027883       0.476  0.008465         0.302960 -0.041937   \n",
       "2            0.007309       0.705  0.022748         0.005628  0.010434   \n",
       "0           -1.990784       0.026  0.002870         0.726875 -0.031195   \n",
       "1           -1.985673       0.093 -0.025855         0.001650 -0.073964   \n",
       "2           -0.009253       0.654 -0.019270         0.019014 -0.072559   \n",
       "\n",
       "   spearman_p_value   cos_sim  \n",
       "0      8.546200e-19  0.039495  \n",
       "1      3.295569e-07 -0.002157  \n",
       "2      2.041764e-01  0.025380  \n",
       "0      1.463699e-04 -0.002662  \n",
       "1      1.998416e-19 -0.037218  \n",
       "2      9.430880e-19 -0.031469  "
      ]
     },
     "execution_count": 30,
     "metadata": {},
     "output_type": "execute_result"
    }
   ],
   "source": [
    "cs_df"
   ]
  },
  {
   "cell_type": "code",
   "execution_count": null,
   "id": "2bc1a16e-ac32-4115-9089-8babf6157185",
   "metadata": {},
   "outputs": [],
   "source": []
  }
 ],
 "metadata": {
  "kernelspec": {
   "display_name": "Python 3 (ipykernel)",
   "language": "python",
   "name": "python3"
  },
  "language_info": {
   "codemirror_mode": {
    "name": "ipython",
    "version": 3
   },
   "file_extension": ".py",
   "mimetype": "text/x-python",
   "name": "python",
   "nbconvert_exporter": "python",
   "pygments_lexer": "ipython3",
   "version": "3.13.5"
  }
 },
 "nbformat": 4,
 "nbformat_minor": 5
}
