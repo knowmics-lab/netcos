{
 "cells": [
  {
   "cell_type": "code",
   "execution_count": 1,
   "id": "4f4000cf-0da2-4ed1-a77d-848f59faefd0",
   "metadata": {},
   "outputs": [],
   "source": [
    "from conf import cell_lines\n",
    "from validations.chembl.chembl_loader import load_raw_chembl"
   ]
  },
  {
   "cell_type": "markdown",
   "id": "a891ca2a-1134-4fbc-a7ed-8600e0f3a6e9",
   "metadata": {
    "jp-MarkdownHeadingCollapsed": true
   },
   "source": [
    "# Overview of datas shapes"
   ]
  },
  {
   "cell_type": "code",
   "execution_count": 6,
   "id": "bad06aca-8651-47de-a4e8-650ca0b21ace",
   "metadata": {},
   "outputs": [
    {
     "name": "stdout",
     "output_type": "stream",
     "text": [
      "['MCF7', 'HepG2', 'HT29']\n"
     ]
    }
   ],
   "source": [
    "print(cell_lines)"
   ]
  },
  {
   "cell_type": "code",
   "execution_count": 4,
   "id": "4414e5a4-a86a-4e93-9339-182730d1508e",
   "metadata": {},
   "outputs": [
    {
     "name": "stdout",
     "output_type": "stream",
     "text": [
      "MCF7\n"
     ]
    },
    {
     "name": "stderr",
     "output_type": "stream",
     "text": [
      "G:\\My Drive\\unict 2024-25\\drug_repurposing\\src\\validations\\chembl\\chembl_loader.py:13: DtypeWarning: Columns (18) have mixed types. Specify dtype option on import or set low_memory=False.\n",
      "  return pd.read_csv(CHEMBL_INPUT_DATA_DIR+cell_line+'_activity.tsv', sep='\\t', index_col=index_col)\n"
     ]
    },
    {
     "name": "stdout",
     "output_type": "stream",
     "text": [
      "(55687,)\n",
      "(55687, 46)\n",
      "HepG2\n"
     ]
    },
    {
     "name": "stderr",
     "output_type": "stream",
     "text": [
      "G:\\My Drive\\unict 2024-25\\drug_repurposing\\src\\validations\\chembl\\chembl_loader.py:13: DtypeWarning: Columns (7,8) have mixed types. Specify dtype option on import or set low_memory=False.\n",
      "  return pd.read_csv(CHEMBL_INPUT_DATA_DIR+cell_line+'_activity.tsv', sep='\\t', index_col=index_col)\n"
     ]
    },
    {
     "name": "stdout",
     "output_type": "stream",
     "text": [
      "(31048,)\n",
      "(31048, 46)\n",
      "HT29\n"
     ]
    },
    {
     "ename": "EmptyDataError",
     "evalue": "No columns to parse from file",
     "output_type": "error",
     "traceback": [
      "\u001b[1;31m---------------------------------------------------------------------------\u001b[0m",
      "\u001b[1;31mEmptyDataError\u001b[0m                            Traceback (most recent call last)",
      "Cell \u001b[1;32mIn[4], line 3\u001b[0m\n\u001b[0;32m      1\u001b[0m \u001b[38;5;28;01mfor\u001b[39;00m cell \u001b[38;5;129;01min\u001b[39;00m cell_lines:\n\u001b[0;32m      2\u001b[0m     \u001b[38;5;28mprint\u001b[39m(cell)\n\u001b[1;32m----> 3\u001b[0m     df\u001b[38;5;241m=\u001b[39m\u001b[43mload_raw_chembl\u001b[49m\u001b[43m(\u001b[49m\u001b[43mcell\u001b[49m\u001b[43m)\u001b[49m\n\u001b[0;32m      4\u001b[0m     \u001b[38;5;28mprint\u001b[39m(df[\u001b[38;5;124m'\u001b[39m\u001b[38;5;124mactivity_id\u001b[39m\u001b[38;5;124m'\u001b[39m]\u001b[38;5;241m.\u001b[39munique()\u001b[38;5;241m.\u001b[39mshape) \u001b[38;5;66;03m# check they are unique\u001b[39;00m\n\u001b[0;32m      5\u001b[0m     \u001b[38;5;28mprint\u001b[39m(df\u001b[38;5;241m.\u001b[39mshape)\n",
      "File \u001b[1;32mG:\\My Drive\\unict 2024-25\\drug_repurposing\\src\\validations\\chembl\\chembl_loader.py:13\u001b[0m, in \u001b[0;36mload_raw_chembl\u001b[1;34m(cell_line, activity_index)\u001b[0m\n\u001b[0;32m     11\u001b[0m \u001b[38;5;28;01mdef\u001b[39;00m\u001b[38;5;250m \u001b[39m\u001b[38;5;21mload_raw_chembl\u001b[39m(cell_line, activity_index \u001b[38;5;241m=\u001b[39m \u001b[38;5;28;01mFalse\u001b[39;00m):\n\u001b[0;32m     12\u001b[0m     index_col \u001b[38;5;241m=\u001b[39m \u001b[38;5;124m'\u001b[39m\u001b[38;5;124mactivity_id\u001b[39m\u001b[38;5;124m'\u001b[39m \u001b[38;5;28;01mif\u001b[39;00m activity_index \u001b[38;5;28;01melse\u001b[39;00m \u001b[38;5;28;01mFalse\u001b[39;00m\n\u001b[1;32m---> 13\u001b[0m     \u001b[38;5;28;01mreturn\u001b[39;00m \u001b[43mpd\u001b[49m\u001b[38;5;241;43m.\u001b[39;49m\u001b[43mread_csv\u001b[49m\u001b[43m(\u001b[49m\u001b[43mCHEMBL_INPUT_DATA_DIR\u001b[49m\u001b[38;5;241;43m+\u001b[39;49m\u001b[43mcell_line\u001b[49m\u001b[38;5;241;43m+\u001b[39;49m\u001b[38;5;124;43m'\u001b[39;49m\u001b[38;5;124;43m_activity.tsv\u001b[39;49m\u001b[38;5;124;43m'\u001b[39;49m\u001b[43m,\u001b[49m\u001b[43m \u001b[49m\u001b[43msep\u001b[49m\u001b[38;5;241;43m=\u001b[39;49m\u001b[38;5;124;43m'\u001b[39;49m\u001b[38;5;130;43;01m\\t\u001b[39;49;00m\u001b[38;5;124;43m'\u001b[39;49m\u001b[43m,\u001b[49m\u001b[43m \u001b[49m\u001b[43mindex_col\u001b[49m\u001b[38;5;241;43m=\u001b[39;49m\u001b[43mindex_col\u001b[49m\u001b[43m)\u001b[49m\n",
      "File \u001b[1;32m~\\miniconda3\\envs\\drug_repurposing\\Lib\\site-packages\\pandas\\io\\parsers\\readers.py:1026\u001b[0m, in \u001b[0;36mread_csv\u001b[1;34m(filepath_or_buffer, sep, delimiter, header, names, index_col, usecols, dtype, engine, converters, true_values, false_values, skipinitialspace, skiprows, skipfooter, nrows, na_values, keep_default_na, na_filter, verbose, skip_blank_lines, parse_dates, infer_datetime_format, keep_date_col, date_parser, date_format, dayfirst, cache_dates, iterator, chunksize, compression, thousands, decimal, lineterminator, quotechar, quoting, doublequote, escapechar, comment, encoding, encoding_errors, dialect, on_bad_lines, delim_whitespace, low_memory, memory_map, float_precision, storage_options, dtype_backend)\u001b[0m\n\u001b[0;32m   1013\u001b[0m kwds_defaults \u001b[38;5;241m=\u001b[39m _refine_defaults_read(\n\u001b[0;32m   1014\u001b[0m     dialect,\n\u001b[0;32m   1015\u001b[0m     delimiter,\n\u001b[1;32m   (...)\u001b[0m\n\u001b[0;32m   1022\u001b[0m     dtype_backend\u001b[38;5;241m=\u001b[39mdtype_backend,\n\u001b[0;32m   1023\u001b[0m )\n\u001b[0;32m   1024\u001b[0m kwds\u001b[38;5;241m.\u001b[39mupdate(kwds_defaults)\n\u001b[1;32m-> 1026\u001b[0m \u001b[38;5;28;01mreturn\u001b[39;00m \u001b[43m_read\u001b[49m\u001b[43m(\u001b[49m\u001b[43mfilepath_or_buffer\u001b[49m\u001b[43m,\u001b[49m\u001b[43m \u001b[49m\u001b[43mkwds\u001b[49m\u001b[43m)\u001b[49m\n",
      "File \u001b[1;32m~\\miniconda3\\envs\\drug_repurposing\\Lib\\site-packages\\pandas\\io\\parsers\\readers.py:620\u001b[0m, in \u001b[0;36m_read\u001b[1;34m(filepath_or_buffer, kwds)\u001b[0m\n\u001b[0;32m    617\u001b[0m _validate_names(kwds\u001b[38;5;241m.\u001b[39mget(\u001b[38;5;124m\"\u001b[39m\u001b[38;5;124mnames\u001b[39m\u001b[38;5;124m\"\u001b[39m, \u001b[38;5;28;01mNone\u001b[39;00m))\n\u001b[0;32m    619\u001b[0m \u001b[38;5;66;03m# Create the parser.\u001b[39;00m\n\u001b[1;32m--> 620\u001b[0m parser \u001b[38;5;241m=\u001b[39m \u001b[43mTextFileReader\u001b[49m\u001b[43m(\u001b[49m\u001b[43mfilepath_or_buffer\u001b[49m\u001b[43m,\u001b[49m\u001b[43m \u001b[49m\u001b[38;5;241;43m*\u001b[39;49m\u001b[38;5;241;43m*\u001b[39;49m\u001b[43mkwds\u001b[49m\u001b[43m)\u001b[49m\n\u001b[0;32m    622\u001b[0m \u001b[38;5;28;01mif\u001b[39;00m chunksize \u001b[38;5;129;01mor\u001b[39;00m iterator:\n\u001b[0;32m    623\u001b[0m     \u001b[38;5;28;01mreturn\u001b[39;00m parser\n",
      "File \u001b[1;32m~\\miniconda3\\envs\\drug_repurposing\\Lib\\site-packages\\pandas\\io\\parsers\\readers.py:1620\u001b[0m, in \u001b[0;36mTextFileReader.__init__\u001b[1;34m(self, f, engine, **kwds)\u001b[0m\n\u001b[0;32m   1617\u001b[0m     \u001b[38;5;28mself\u001b[39m\u001b[38;5;241m.\u001b[39moptions[\u001b[38;5;124m\"\u001b[39m\u001b[38;5;124mhas_index_names\u001b[39m\u001b[38;5;124m\"\u001b[39m] \u001b[38;5;241m=\u001b[39m kwds[\u001b[38;5;124m\"\u001b[39m\u001b[38;5;124mhas_index_names\u001b[39m\u001b[38;5;124m\"\u001b[39m]\n\u001b[0;32m   1619\u001b[0m \u001b[38;5;28mself\u001b[39m\u001b[38;5;241m.\u001b[39mhandles: IOHandles \u001b[38;5;241m|\u001b[39m \u001b[38;5;28;01mNone\u001b[39;00m \u001b[38;5;241m=\u001b[39m \u001b[38;5;28;01mNone\u001b[39;00m\n\u001b[1;32m-> 1620\u001b[0m \u001b[38;5;28mself\u001b[39m\u001b[38;5;241m.\u001b[39m_engine \u001b[38;5;241m=\u001b[39m \u001b[38;5;28;43mself\u001b[39;49m\u001b[38;5;241;43m.\u001b[39;49m\u001b[43m_make_engine\u001b[49m\u001b[43m(\u001b[49m\u001b[43mf\u001b[49m\u001b[43m,\u001b[49m\u001b[43m \u001b[49m\u001b[38;5;28;43mself\u001b[39;49m\u001b[38;5;241;43m.\u001b[39;49m\u001b[43mengine\u001b[49m\u001b[43m)\u001b[49m\n",
      "File \u001b[1;32m~\\miniconda3\\envs\\drug_repurposing\\Lib\\site-packages\\pandas\\io\\parsers\\readers.py:1898\u001b[0m, in \u001b[0;36mTextFileReader._make_engine\u001b[1;34m(self, f, engine)\u001b[0m\n\u001b[0;32m   1895\u001b[0m     \u001b[38;5;28;01mraise\u001b[39;00m \u001b[38;5;167;01mValueError\u001b[39;00m(msg)\n\u001b[0;32m   1897\u001b[0m \u001b[38;5;28;01mtry\u001b[39;00m:\n\u001b[1;32m-> 1898\u001b[0m     \u001b[38;5;28;01mreturn\u001b[39;00m \u001b[43mmapping\u001b[49m\u001b[43m[\u001b[49m\u001b[43mengine\u001b[49m\u001b[43m]\u001b[49m\u001b[43m(\u001b[49m\u001b[43mf\u001b[49m\u001b[43m,\u001b[49m\u001b[43m \u001b[49m\u001b[38;5;241;43m*\u001b[39;49m\u001b[38;5;241;43m*\u001b[39;49m\u001b[38;5;28;43mself\u001b[39;49m\u001b[38;5;241;43m.\u001b[39;49m\u001b[43moptions\u001b[49m\u001b[43m)\u001b[49m\n\u001b[0;32m   1899\u001b[0m \u001b[38;5;28;01mexcept\u001b[39;00m \u001b[38;5;167;01mException\u001b[39;00m:\n\u001b[0;32m   1900\u001b[0m     \u001b[38;5;28;01mif\u001b[39;00m \u001b[38;5;28mself\u001b[39m\u001b[38;5;241m.\u001b[39mhandles \u001b[38;5;129;01mis\u001b[39;00m \u001b[38;5;129;01mnot\u001b[39;00m \u001b[38;5;28;01mNone\u001b[39;00m:\n",
      "File \u001b[1;32m~\\miniconda3\\envs\\drug_repurposing\\Lib\\site-packages\\pandas\\io\\parsers\\c_parser_wrapper.py:93\u001b[0m, in \u001b[0;36mCParserWrapper.__init__\u001b[1;34m(self, src, **kwds)\u001b[0m\n\u001b[0;32m     90\u001b[0m \u001b[38;5;28;01mif\u001b[39;00m kwds[\u001b[38;5;124m\"\u001b[39m\u001b[38;5;124mdtype_backend\u001b[39m\u001b[38;5;124m\"\u001b[39m] \u001b[38;5;241m==\u001b[39m \u001b[38;5;124m\"\u001b[39m\u001b[38;5;124mpyarrow\u001b[39m\u001b[38;5;124m\"\u001b[39m:\n\u001b[0;32m     91\u001b[0m     \u001b[38;5;66;03m# Fail here loudly instead of in cython after reading\u001b[39;00m\n\u001b[0;32m     92\u001b[0m     import_optional_dependency(\u001b[38;5;124m\"\u001b[39m\u001b[38;5;124mpyarrow\u001b[39m\u001b[38;5;124m\"\u001b[39m)\n\u001b[1;32m---> 93\u001b[0m \u001b[38;5;28mself\u001b[39m\u001b[38;5;241m.\u001b[39m_reader \u001b[38;5;241m=\u001b[39m \u001b[43mparsers\u001b[49m\u001b[38;5;241;43m.\u001b[39;49m\u001b[43mTextReader\u001b[49m\u001b[43m(\u001b[49m\u001b[43msrc\u001b[49m\u001b[43m,\u001b[49m\u001b[43m \u001b[49m\u001b[38;5;241;43m*\u001b[39;49m\u001b[38;5;241;43m*\u001b[39;49m\u001b[43mkwds\u001b[49m\u001b[43m)\u001b[49m\n\u001b[0;32m     95\u001b[0m \u001b[38;5;28mself\u001b[39m\u001b[38;5;241m.\u001b[39munnamed_cols \u001b[38;5;241m=\u001b[39m \u001b[38;5;28mself\u001b[39m\u001b[38;5;241m.\u001b[39m_reader\u001b[38;5;241m.\u001b[39munnamed_cols\n\u001b[0;32m     97\u001b[0m \u001b[38;5;66;03m# error: Cannot determine type of 'names'\u001b[39;00m\n",
      "File \u001b[1;32mpandas/_libs/parsers.pyx:581\u001b[0m, in \u001b[0;36mpandas._libs.parsers.TextReader.__cinit__\u001b[1;34m()\u001b[0m\n",
      "\u001b[1;31mEmptyDataError\u001b[0m: No columns to parse from file"
     ]
    }
   ],
   "source": [
    "for cell in cell_lines:\n",
    "    print(cell)\n",
    "    df=load_raw_chembl(cell)\n",
    "    print(df['activity_id'].unique().shape) # check they are unique\n",
    "    print(df.shape)"
   ]
  },
  {
   "cell_type": "markdown",
   "id": "46b37bf2-0cea-4813-8fc8-30bb3f8e7d7b",
   "metadata": {},
   "source": [
    "# MCF7"
   ]
  },
  {
   "cell_type": "code",
   "execution_count": 7,
   "id": "93bc56e2-3b4d-409f-9892-1bd6f14c87e5",
   "metadata": {},
   "outputs": [
    {
     "name": "stderr",
     "output_type": "stream",
     "text": [
      "G:\\My Drive\\unict 2024-25\\drug_repurposing\\src\\validations\\chembl\\chembl_loader.py:13: DtypeWarning: Columns (18) have mixed types. Specify dtype option on import or set low_memory=False.\n",
      "  return pd.read_csv(CHEMBL_INPUT_DATA_DIR+cell_line+'_activity.tsv', sep='\\t', index_col=index_col)\n"
     ]
    },
    {
     "data": {
      "text/html": [
       "<div>\n",
       "<style scoped>\n",
       "    .dataframe tbody tr th:only-of-type {\n",
       "        vertical-align: middle;\n",
       "    }\n",
       "\n",
       "    .dataframe tbody tr th {\n",
       "        vertical-align: top;\n",
       "    }\n",
       "\n",
       "    .dataframe thead th {\n",
       "        text-align: right;\n",
       "    }\n",
       "</style>\n",
       "<table border=\"1\" class=\"dataframe\">\n",
       "  <thead>\n",
       "    <tr style=\"text-align: right;\">\n",
       "      <th></th>\n",
       "      <th>action_type</th>\n",
       "      <th>activity_comment</th>\n",
       "      <th>activity_properties</th>\n",
       "      <th>assay_chembl_id</th>\n",
       "      <th>assay_description</th>\n",
       "      <th>assay_type</th>\n",
       "      <th>assay_variant_accession</th>\n",
       "      <th>assay_variant_mutation</th>\n",
       "      <th>bao_endpoint</th>\n",
       "      <th>bao_format</th>\n",
       "      <th>...</th>\n",
       "      <th>target_organism</th>\n",
       "      <th>target_pref_name</th>\n",
       "      <th>target_tax_id</th>\n",
       "      <th>text_value</th>\n",
       "      <th>toid</th>\n",
       "      <th>type</th>\n",
       "      <th>units</th>\n",
       "      <th>uo_units</th>\n",
       "      <th>upper_value</th>\n",
       "      <th>value</th>\n",
       "    </tr>\n",
       "    <tr>\n",
       "      <th>activity_id</th>\n",
       "      <th></th>\n",
       "      <th></th>\n",
       "      <th></th>\n",
       "      <th></th>\n",
       "      <th></th>\n",
       "      <th></th>\n",
       "      <th></th>\n",
       "      <th></th>\n",
       "      <th></th>\n",
       "      <th></th>\n",
       "      <th></th>\n",
       "      <th></th>\n",
       "      <th></th>\n",
       "      <th></th>\n",
       "      <th></th>\n",
       "      <th></th>\n",
       "      <th></th>\n",
       "      <th></th>\n",
       "      <th></th>\n",
       "      <th></th>\n",
       "      <th></th>\n",
       "    </tr>\n",
       "  </thead>\n",
       "  <tbody>\n",
       "    <tr>\n",
       "      <th>514147</th>\n",
       "      <td>NaN</td>\n",
       "      <td>NaN</td>\n",
       "      <td>[]</td>\n",
       "      <td>CHEMBL653209</td>\n",
       "      <td>Inhibitory concentration against breast MCF-7 ...</td>\n",
       "      <td>F</td>\n",
       "      <td>NaN</td>\n",
       "      <td>NaN</td>\n",
       "      <td>BAO_0000190</td>\n",
       "      <td>BAO_0000219</td>\n",
       "      <td>...</td>\n",
       "      <td>Homo sapiens</td>\n",
       "      <td>MCF7</td>\n",
       "      <td>9606.0</td>\n",
       "      <td>NaN</td>\n",
       "      <td>NaN</td>\n",
       "      <td>IC50</td>\n",
       "      <td>uM</td>\n",
       "      <td>UO_0000065</td>\n",
       "      <td>NaN</td>\n",
       "      <td>11.0</td>\n",
       "    </tr>\n",
       "    <tr>\n",
       "      <th>515403</th>\n",
       "      <td>NaN</td>\n",
       "      <td>NaN</td>\n",
       "      <td>[]</td>\n",
       "      <td>CHEMBL653209</td>\n",
       "      <td>Inhibitory concentration against breast MCF-7 ...</td>\n",
       "      <td>F</td>\n",
       "      <td>NaN</td>\n",
       "      <td>NaN</td>\n",
       "      <td>BAO_0000190</td>\n",
       "      <td>BAO_0000219</td>\n",
       "      <td>...</td>\n",
       "      <td>Homo sapiens</td>\n",
       "      <td>MCF7</td>\n",
       "      <td>9606.0</td>\n",
       "      <td>NaN</td>\n",
       "      <td>NaN</td>\n",
       "      <td>IC50</td>\n",
       "      <td>uM</td>\n",
       "      <td>UO_0000065</td>\n",
       "      <td>NaN</td>\n",
       "      <td>7.0</td>\n",
       "    </tr>\n",
       "    <tr>\n",
       "      <th>517837</th>\n",
       "      <td>NaN</td>\n",
       "      <td>NaN</td>\n",
       "      <td>[]</td>\n",
       "      <td>CHEMBL653209</td>\n",
       "      <td>Inhibitory concentration against breast MCF-7 ...</td>\n",
       "      <td>F</td>\n",
       "      <td>NaN</td>\n",
       "      <td>NaN</td>\n",
       "      <td>BAO_0000190</td>\n",
       "      <td>BAO_0000219</td>\n",
       "      <td>...</td>\n",
       "      <td>Homo sapiens</td>\n",
       "      <td>MCF7</td>\n",
       "      <td>9606.0</td>\n",
       "      <td>NaN</td>\n",
       "      <td>NaN</td>\n",
       "      <td>IC50</td>\n",
       "      <td>uM</td>\n",
       "      <td>UO_0000065</td>\n",
       "      <td>NaN</td>\n",
       "      <td>1.5</td>\n",
       "    </tr>\n",
       "    <tr>\n",
       "      <th>519211</th>\n",
       "      <td>NaN</td>\n",
       "      <td>NaN</td>\n",
       "      <td>[]</td>\n",
       "      <td>CHEMBL653209</td>\n",
       "      <td>Inhibitory concentration against breast MCF-7 ...</td>\n",
       "      <td>F</td>\n",
       "      <td>NaN</td>\n",
       "      <td>NaN</td>\n",
       "      <td>BAO_0000190</td>\n",
       "      <td>BAO_0000219</td>\n",
       "      <td>...</td>\n",
       "      <td>Homo sapiens</td>\n",
       "      <td>MCF7</td>\n",
       "      <td>9606.0</td>\n",
       "      <td>NaN</td>\n",
       "      <td>NaN</td>\n",
       "      <td>IC50</td>\n",
       "      <td>uM</td>\n",
       "      <td>UO_0000065</td>\n",
       "      <td>NaN</td>\n",
       "      <td>6.0</td>\n",
       "    </tr>\n",
       "    <tr>\n",
       "      <th>519224</th>\n",
       "      <td>NaN</td>\n",
       "      <td>NaN</td>\n",
       "      <td>[]</td>\n",
       "      <td>CHEMBL653209</td>\n",
       "      <td>Inhibitory concentration against breast MCF-7 ...</td>\n",
       "      <td>F</td>\n",
       "      <td>NaN</td>\n",
       "      <td>NaN</td>\n",
       "      <td>BAO_0000190</td>\n",
       "      <td>BAO_0000219</td>\n",
       "      <td>...</td>\n",
       "      <td>Homo sapiens</td>\n",
       "      <td>MCF7</td>\n",
       "      <td>9606.0</td>\n",
       "      <td>NaN</td>\n",
       "      <td>NaN</td>\n",
       "      <td>IC50</td>\n",
       "      <td>uM</td>\n",
       "      <td>UO_0000065</td>\n",
       "      <td>NaN</td>\n",
       "      <td>11.5</td>\n",
       "    </tr>\n",
       "    <tr>\n",
       "      <th>...</th>\n",
       "      <td>...</td>\n",
       "      <td>...</td>\n",
       "      <td>...</td>\n",
       "      <td>...</td>\n",
       "      <td>...</td>\n",
       "      <td>...</td>\n",
       "      <td>...</td>\n",
       "      <td>...</td>\n",
       "      <td>...</td>\n",
       "      <td>...</td>\n",
       "      <td>...</td>\n",
       "      <td>...</td>\n",
       "      <td>...</td>\n",
       "      <td>...</td>\n",
       "      <td>...</td>\n",
       "      <td>...</td>\n",
       "      <td>...</td>\n",
       "      <td>...</td>\n",
       "      <td>...</td>\n",
       "      <td>...</td>\n",
       "      <td>...</td>\n",
       "    </tr>\n",
       "    <tr>\n",
       "      <th>25754548</th>\n",
       "      <td>NaN</td>\n",
       "      <td>NaN</td>\n",
       "      <td>[{'comments': None, 'relation': None, 'result_...</td>\n",
       "      <td>CHEMBL5445239</td>\n",
       "      <td>Affinity Phenotypic Cellular interaction: (MTT...</td>\n",
       "      <td>F</td>\n",
       "      <td>NaN</td>\n",
       "      <td>NaN</td>\n",
       "      <td>BAO_0000190</td>\n",
       "      <td>BAO_0000219</td>\n",
       "      <td>...</td>\n",
       "      <td>Homo sapiens</td>\n",
       "      <td>Cyclin-dependent kinase 2</td>\n",
       "      <td>9606.0</td>\n",
       "      <td>NaN</td>\n",
       "      <td>NaN</td>\n",
       "      <td>IC50</td>\n",
       "      <td>nM</td>\n",
       "      <td>UO_0000065</td>\n",
       "      <td>NaN</td>\n",
       "      <td>10900.0</td>\n",
       "    </tr>\n",
       "    <tr>\n",
       "      <th>25754224</th>\n",
       "      <td>NaN</td>\n",
       "      <td>NaN</td>\n",
       "      <td>[{'comments': None, 'relation': None, 'result_...</td>\n",
       "      <td>CHEMBL5445488</td>\n",
       "      <td>Affinity Phenotypic Cellular interaction: (Cel...</td>\n",
       "      <td>F</td>\n",
       "      <td>NaN</td>\n",
       "      <td>NaN</td>\n",
       "      <td>BAO_0000190</td>\n",
       "      <td>BAO_0000219</td>\n",
       "      <td>...</td>\n",
       "      <td>Homo sapiens</td>\n",
       "      <td>Protein arginine N-methyltransferase 6</td>\n",
       "      <td>9606.0</td>\n",
       "      <td>NaN</td>\n",
       "      <td>NaN</td>\n",
       "      <td>IC50</td>\n",
       "      <td>nM</td>\n",
       "      <td>UO_0000065</td>\n",
       "      <td>NaN</td>\n",
       "      <td>10000.0</td>\n",
       "    </tr>\n",
       "    <tr>\n",
       "      <th>25754229</th>\n",
       "      <td>NaN</td>\n",
       "      <td>NaN</td>\n",
       "      <td>[{'comments': None, 'relation': None, 'result_...</td>\n",
       "      <td>CHEMBL5445493</td>\n",
       "      <td>Affinity Phenotypic Cellular interaction: (Cel...</td>\n",
       "      <td>F</td>\n",
       "      <td>NaN</td>\n",
       "      <td>NaN</td>\n",
       "      <td>BAO_0000190</td>\n",
       "      <td>BAO_0000219</td>\n",
       "      <td>...</td>\n",
       "      <td>Homo sapiens</td>\n",
       "      <td>Protein arginine N-methyltransferase 6</td>\n",
       "      <td>9606.0</td>\n",
       "      <td>NaN</td>\n",
       "      <td>NaN</td>\n",
       "      <td>IC50</td>\n",
       "      <td>nM</td>\n",
       "      <td>UO_0000065</td>\n",
       "      <td>NaN</td>\n",
       "      <td>10000.0</td>\n",
       "    </tr>\n",
       "    <tr>\n",
       "      <th>25755143</th>\n",
       "      <td>NaN</td>\n",
       "      <td>NaN</td>\n",
       "      <td>[{'comments': None, 'relation': None, 'result_...</td>\n",
       "      <td>CHEMBL5445561</td>\n",
       "      <td>Affinity Phenotypic Cellular interaction: (Pro...</td>\n",
       "      <td>F</td>\n",
       "      <td>NaN</td>\n",
       "      <td>NaN</td>\n",
       "      <td>BAO_0000190</td>\n",
       "      <td>BAO_0000219</td>\n",
       "      <td>...</td>\n",
       "      <td>Homo sapiens</td>\n",
       "      <td>Casein kinase II alpha</td>\n",
       "      <td>9606.0</td>\n",
       "      <td>NaN</td>\n",
       "      <td>NaN</td>\n",
       "      <td>IC50</td>\n",
       "      <td>nM</td>\n",
       "      <td>UO_0000065</td>\n",
       "      <td>NaN</td>\n",
       "      <td>1200.0</td>\n",
       "    </tr>\n",
       "    <tr>\n",
       "      <th>25755286</th>\n",
       "      <td>NaN</td>\n",
       "      <td>NaN</td>\n",
       "      <td>[{'comments': None, 'relation': None, 'result_...</td>\n",
       "      <td>CHEMBL5445701</td>\n",
       "      <td>Affinity Phenotypic Cellular interaction: (Pro...</td>\n",
       "      <td>F</td>\n",
       "      <td>NaN</td>\n",
       "      <td>NaN</td>\n",
       "      <td>BAO_0000190</td>\n",
       "      <td>BAO_0000219</td>\n",
       "      <td>...</td>\n",
       "      <td>Homo sapiens</td>\n",
       "      <td>Casein kinase II alpha (prime)</td>\n",
       "      <td>9606.0</td>\n",
       "      <td>NaN</td>\n",
       "      <td>NaN</td>\n",
       "      <td>IC50</td>\n",
       "      <td>nM</td>\n",
       "      <td>UO_0000065</td>\n",
       "      <td>NaN</td>\n",
       "      <td>1200.0</td>\n",
       "    </tr>\n",
       "  </tbody>\n",
       "</table>\n",
       "<p>55687 rows × 45 columns</p>\n",
       "</div>"
      ],
      "text/plain": [
       "             action_type activity_comment  \\\n",
       "activity_id                                 \n",
       "514147               NaN              NaN   \n",
       "515403               NaN              NaN   \n",
       "517837               NaN              NaN   \n",
       "519211               NaN              NaN   \n",
       "519224               NaN              NaN   \n",
       "...                  ...              ...   \n",
       "25754548             NaN              NaN   \n",
       "25754224             NaN              NaN   \n",
       "25754229             NaN              NaN   \n",
       "25755143             NaN              NaN   \n",
       "25755286             NaN              NaN   \n",
       "\n",
       "                                           activity_properties  \\\n",
       "activity_id                                                      \n",
       "514147                                                      []   \n",
       "515403                                                      []   \n",
       "517837                                                      []   \n",
       "519211                                                      []   \n",
       "519224                                                      []   \n",
       "...                                                        ...   \n",
       "25754548     [{'comments': None, 'relation': None, 'result_...   \n",
       "25754224     [{'comments': None, 'relation': None, 'result_...   \n",
       "25754229     [{'comments': None, 'relation': None, 'result_...   \n",
       "25755143     [{'comments': None, 'relation': None, 'result_...   \n",
       "25755286     [{'comments': None, 'relation': None, 'result_...   \n",
       "\n",
       "            assay_chembl_id  \\\n",
       "activity_id                   \n",
       "514147         CHEMBL653209   \n",
       "515403         CHEMBL653209   \n",
       "517837         CHEMBL653209   \n",
       "519211         CHEMBL653209   \n",
       "519224         CHEMBL653209   \n",
       "...                     ...   \n",
       "25754548      CHEMBL5445239   \n",
       "25754224      CHEMBL5445488   \n",
       "25754229      CHEMBL5445493   \n",
       "25755143      CHEMBL5445561   \n",
       "25755286      CHEMBL5445701   \n",
       "\n",
       "                                             assay_description assay_type  \\\n",
       "activity_id                                                                 \n",
       "514147       Inhibitory concentration against breast MCF-7 ...          F   \n",
       "515403       Inhibitory concentration against breast MCF-7 ...          F   \n",
       "517837       Inhibitory concentration against breast MCF-7 ...          F   \n",
       "519211       Inhibitory concentration against breast MCF-7 ...          F   \n",
       "519224       Inhibitory concentration against breast MCF-7 ...          F   \n",
       "...                                                        ...        ...   \n",
       "25754548     Affinity Phenotypic Cellular interaction: (MTT...          F   \n",
       "25754224     Affinity Phenotypic Cellular interaction: (Cel...          F   \n",
       "25754229     Affinity Phenotypic Cellular interaction: (Cel...          F   \n",
       "25755143     Affinity Phenotypic Cellular interaction: (Pro...          F   \n",
       "25755286     Affinity Phenotypic Cellular interaction: (Pro...          F   \n",
       "\n",
       "             assay_variant_accession  assay_variant_mutation bao_endpoint  \\\n",
       "activity_id                                                                 \n",
       "514147                           NaN                     NaN  BAO_0000190   \n",
       "515403                           NaN                     NaN  BAO_0000190   \n",
       "517837                           NaN                     NaN  BAO_0000190   \n",
       "519211                           NaN                     NaN  BAO_0000190   \n",
       "519224                           NaN                     NaN  BAO_0000190   \n",
       "...                              ...                     ...          ...   \n",
       "25754548                         NaN                     NaN  BAO_0000190   \n",
       "25754224                         NaN                     NaN  BAO_0000190   \n",
       "25754229                         NaN                     NaN  BAO_0000190   \n",
       "25755143                         NaN                     NaN  BAO_0000190   \n",
       "25755286                         NaN                     NaN  BAO_0000190   \n",
       "\n",
       "              bao_format  ... target_organism  \\\n",
       "activity_id               ...                   \n",
       "514147       BAO_0000219  ...    Homo sapiens   \n",
       "515403       BAO_0000219  ...    Homo sapiens   \n",
       "517837       BAO_0000219  ...    Homo sapiens   \n",
       "519211       BAO_0000219  ...    Homo sapiens   \n",
       "519224       BAO_0000219  ...    Homo sapiens   \n",
       "...                  ...  ...             ...   \n",
       "25754548     BAO_0000219  ...    Homo sapiens   \n",
       "25754224     BAO_0000219  ...    Homo sapiens   \n",
       "25754229     BAO_0000219  ...    Homo sapiens   \n",
       "25755143     BAO_0000219  ...    Homo sapiens   \n",
       "25755286     BAO_0000219  ...    Homo sapiens   \n",
       "\n",
       "                                   target_pref_name target_tax_id text_value  \\\n",
       "activity_id                                                                    \n",
       "514147                                         MCF7        9606.0        NaN   \n",
       "515403                                         MCF7        9606.0        NaN   \n",
       "517837                                         MCF7        9606.0        NaN   \n",
       "519211                                         MCF7        9606.0        NaN   \n",
       "519224                                         MCF7        9606.0        NaN   \n",
       "...                                             ...           ...        ...   \n",
       "25754548                  Cyclin-dependent kinase 2        9606.0        NaN   \n",
       "25754224     Protein arginine N-methyltransferase 6        9606.0        NaN   \n",
       "25754229     Protein arginine N-methyltransferase 6        9606.0        NaN   \n",
       "25755143                     Casein kinase II alpha        9606.0        NaN   \n",
       "25755286             Casein kinase II alpha (prime)        9606.0        NaN   \n",
       "\n",
       "            toid  type  units    uo_units upper_value    value  \n",
       "activity_id                                                     \n",
       "514147       NaN  IC50     uM  UO_0000065         NaN     11.0  \n",
       "515403       NaN  IC50     uM  UO_0000065         NaN      7.0  \n",
       "517837       NaN  IC50     uM  UO_0000065         NaN      1.5  \n",
       "519211       NaN  IC50     uM  UO_0000065         NaN      6.0  \n",
       "519224       NaN  IC50     uM  UO_0000065         NaN     11.5  \n",
       "...          ...   ...    ...         ...         ...      ...  \n",
       "25754548     NaN  IC50     nM  UO_0000065         NaN  10900.0  \n",
       "25754224     NaN  IC50     nM  UO_0000065         NaN  10000.0  \n",
       "25754229     NaN  IC50     nM  UO_0000065         NaN  10000.0  \n",
       "25755143     NaN  IC50     nM  UO_0000065         NaN   1200.0  \n",
       "25755286     NaN  IC50     nM  UO_0000065         NaN   1200.0  \n",
       "\n",
       "[55687 rows x 45 columns]"
      ]
     },
     "execution_count": 7,
     "metadata": {},
     "output_type": "execute_result"
    }
   ],
   "source": [
    "cell_line=cell_lines[0]\n",
    "act_df= load_raw_chembl(cell_line, activity_index=True)\n",
    "act_df"
   ]
  },
  {
   "cell_type": "code",
   "execution_count": 13,
   "id": "d6b2f98c-fc02-47d8-baa6-85618b5ed8b0",
   "metadata": {},
   "outputs": [
    {
     "data": {
      "text/plain": [
       "Index(['action_type', 'activity_comment', 'activity_properties',\n",
       "       'assay_chembl_id', 'assay_description', 'assay_type',\n",
       "       'assay_variant_accession', 'assay_variant_mutation', 'bao_endpoint',\n",
       "       'bao_format', 'bao_label', 'canonical_smiles', 'data_validity_comment',\n",
       "       'data_validity_description', 'document_chembl_id', 'document_journal',\n",
       "       'document_year', 'ligand_efficiency', 'molecule_chembl_id',\n",
       "       'molecule_pref_name', 'parent_molecule_chembl_id', 'pchembl_value',\n",
       "       'potential_duplicate', 'qudt_units', 'record_id', 'relation', 'src_id',\n",
       "       'standard_flag', 'standard_relation', 'standard_text_value',\n",
       "       'standard_type', 'standard_units', 'standard_upper_value',\n",
       "       'standard_value', 'target_chembl_id', 'target_organism',\n",
       "       'target_pref_name', 'target_tax_id', 'text_value', 'toid', 'type',\n",
       "       'units', 'uo_units', 'upper_value', 'value'],\n",
       "      dtype='object')"
      ]
     },
     "execution_count": 13,
     "metadata": {},
     "output_type": "execute_result"
    }
   ],
   "source": [
    "act_df.columns"
   ]
  },
  {
   "cell_type": "code",
   "execution_count": 19,
   "id": "3cbe7049-8b18-40dc-bbf1-cd6cf59b50e9",
   "metadata": {},
   "outputs": [
    {
     "data": {
      "text/plain": [
       "array([9606.,   nan])"
      ]
     },
     "execution_count": 19,
     "metadata": {},
     "output_type": "execute_result"
    }
   ],
   "source": [
    "act_df.target_tax_id.unique()"
   ]
  },
  {
   "cell_type": "markdown",
   "id": "3a29fd55-aabf-44ac-8982-3570c4668cc0",
   "metadata": {},
   "source": [
    "## assays"
   ]
  },
  {
   "cell_type": "code",
   "execution_count": 14,
   "id": "d25b78c6-2805-4f99-a572-87394b5e7daa",
   "metadata": {},
   "outputs": [
    {
     "data": {
      "text/plain": [
       "assay_description\n",
       "Cytotoxicity against human MCF7 cells after 48 hrs by MTT assay                                                                                                   2660\n",
       "Antiproliferative activity against human MCF7 cells after 48 hrs by MTT assay                                                                                     2654\n",
       "Antiproliferative activity against human MCF7 cells after 72 hrs by MTT assay                                                                                     2194\n",
       "Cytotoxicity against human MCF7 cells after 72 hrs by MTT assay                                                                                                   1998\n",
       "Cytotoxicity against human MCF7 cells by MTT assay                                                                                                                1268\n",
       "                                                                                                                                                                  ... \n",
       "In vitro Neoplastic Anti Activity against Human Breast adenocarcinoma MCF-7 Cell lines                                                                               1\n",
       "Inhibition of rapamycin-induced autophagy in human MCF7 cells expressing eGFP-tagged LC3                                                                             1\n",
       "Affinity Phenotypic Cellular interaction: (ELISA (Rb-Ser807/S811 phosphorylation assay in MCF-7 cell line)) EUB0001326b CDK6                                         1\n",
       "Affinity Phenotypic Cellular interaction: (CellTiter-Blue assay (cell proliferation in MCF-7 cells)) EUB0001326b CDK6                                                1\n",
       "Affinity Phenotypic Cellular interaction: (Radiometric assay (inhibition of thymidine incorporation into the DNA of Rb-positive MCF-7 cells)) EUB0001326b CDK6       1\n",
       "Name: count, Length: 2635, dtype: int64"
      ]
     },
     "execution_count": 14,
     "metadata": {},
     "output_type": "execute_result"
    }
   ],
   "source": [
    "act_df['assay_description'].value_counts() # large data, takes a while"
   ]
  },
  {
   "cell_type": "markdown",
   "id": "4a50a47c-70db-488c-8e8d-16638daac5a0",
   "metadata": {},
   "source": [
    "## Molecules"
   ]
  },
  {
   "cell_type": "code",
   "execution_count": 17,
   "id": "da873f89-83d5-4ee3-abd1-4e3d979e12ca",
   "metadata": {},
   "outputs": [
    {
     "data": {
      "text/plain": [
       "molecule_chembl_id\n",
       "CHEMBL53463      629\n",
       "CHEMBL185        254\n",
       "CHEMBL428647     250\n",
       "CHEMBL67         142\n",
       "CHEMBL83         121\n",
       "                ... \n",
       "CHEMBL1794883      1\n",
       "CHEMBL1236095      1\n",
       "CHEMBL5070897      1\n",
       "CHEMBL5075218      1\n",
       "CHEMBL353629       1\n",
       "Name: count, Length: 48834, dtype: int64"
      ]
     },
     "execution_count": 17,
     "metadata": {},
     "output_type": "execute_result"
    }
   ],
   "source": [
    "act_df.molecule_chembl_id.value_counts()"
   ]
  },
  {
   "cell_type": "code",
   "execution_count": 8,
   "id": "bb479069-6506-469b-b56f-b6c307fb4615",
   "metadata": {},
   "outputs": [
    {
     "data": {
      "text/plain": [
       "canonical_smiles\n",
       "COc1cccc2c1C(=O)c1c(O)c3c(c(O)c1C2=O)C[C@@](O)(C(=O)CO)C[C@@H]3O[C@H]1C[C@H](N)[C@H](O)[C@H](C)O1                                                                   629\n",
       "O=c1[nH]cc(F)c(=O)[nH]1                                                                                                                                             254\n",
       "CC(=O)O[C@H]1C(=O)[C@@]2(C)[C@H]([C@H](OC(=O)c3ccccc3)[C@]3(O)C[C@H](OC(=O)[C@H](O)[C@@H](NC(=O)c4ccccc4)c4ccccc4)C(C)=C1C3(C)C)[C@]1(OC(C)=O)CO[C@@H]1C[C@@H]2O    250\n",
       "COc1ccc(/C=C\\c2cc(OC)c(OC)c(OC)c2)cc1O                                                                                                                              142\n",
       "CC/C(=C(\\c1ccccc1)c1ccc(OCCN(C)C)cc1)c1ccccc1                                                                                                                       121\n",
       "                                                                                                                                                                   ... \n",
       "COc1cc2c(c(OC)c1OC)-c1ccc(SC)c(=O)cc1[C@@H](NC(=O)[C@@H](N)CCSC)CC2.COc1cc2c(c(OC)c1OC)-c1ccc(SC)c(=O)cc1[C@@H](NC(=O)[C@H](N)CCSC)CC2                                1\n",
       "CCc1cccc(CC)c1NC(=O)c1nn(C)c2c1CCc1cnc(Nc3ccc(C(=O)NC4CCN(C)CC4)cc3OC(F)(F)F)nc1-2                                                                                    1\n",
       "Cc1cc(C)cc([C@@H]2c3cc(C)ccc3NC(=O)CN2C(=O)c2ccc(Br)s2)c1                                                                                                             1\n",
       "Cc1cc(C)cc([C@H]2c3cc(C)ccc3NC(=O)CN2C(=O)c2ccc(Br)s2)c1                                                                                                              1\n",
       "N#Cc1cccc(COc2ccc(-c3cc(CNC4CCN(Cc5ccccc5)CC4)no3)cc2)c1                                                                                                              1\n",
       "Name: count, Length: 48761, dtype: int64"
      ]
     },
     "execution_count": 8,
     "metadata": {},
     "output_type": "execute_result"
    }
   ],
   "source": [
    "act_df.canonical_smiles.value_counts()"
   ]
  },
  {
   "cell_type": "code",
   "execution_count": 10,
   "id": "3bba8187-1de0-4c99-8209-8406567814da",
   "metadata": {},
   "outputs": [
    {
     "data": {
      "text/plain": [
       "activity_id\n",
       "514147    COc1ccc(NS(=O)(=O)c2ccc(/C=C/C(=O)Nc3ccccc3N)c...\n",
       "515403    CC(C)(C)c1ccc(S(=O)(=O)Nc2ccc(/C=C/C(=O)Nc3ccc...\n",
       "517837       COc1ccc(S(=O)(=O)Nc2ccc(/C=C/C(=O)NO)cc2)cc1OC\n",
       "519211    Cc1ccc(S(=O)(=O)Nc2ccc(/C=C/C(=O)Nc3ccccc3N)cc...\n",
       "519224    Cc1ccc(NS(=O)(=O)c2ccc(/C=C/C(=O)Nc3ccccc3N)cc...\n",
       "Name: canonical_smiles, dtype: object"
      ]
     },
     "execution_count": 10,
     "metadata": {},
     "output_type": "execute_result"
    }
   ],
   "source": [
    "act_df.canonical_smiles.head()"
   ]
  },
  {
   "cell_type": "code",
   "execution_count": 32,
   "id": "60861b5c-47f9-4a08-a82c-7e9a3afb511a",
   "metadata": {},
   "outputs": [
    {
     "data": {
      "text/plain": [
       "nan"
      ]
     },
     "execution_count": 32,
     "metadata": {},
     "output_type": "execute_result"
    }
   ],
   "source": [
    "# estradiol CHEMBL135\n",
    "# docetaxel CHEMBL3545252\n",
    "# epothilone a CHEMBL329993\n",
    "# dactinomycin CHEMBL1554\n",
    "\n",
    "chembl_id='chembl135'\n",
    "act_df[act_df.molecule_chembl_id==chembl_id].value.median()"
   ]
  },
  {
   "cell_type": "code",
   "execution_count": 29,
   "id": "2f2bc792-aea0-4b60-b19b-488f3209ba86",
   "metadata": {},
   "outputs": [
    {
     "data": {
      "text/plain": [
       "36"
      ]
     },
     "execution_count": 29,
     "metadata": {},
     "output_type": "execute_result"
    }
   ],
   "source": [
    "len(act_df[act_df.molecule_chembl_id==chembl_id].value)"
   ]
  },
  {
   "cell_type": "code",
   "execution_count": 30,
   "id": "fe42d282-8773-4120-aeae-e6aecf55d540",
   "metadata": {},
   "outputs": [
    {
     "data": {
      "text/plain": [
       "np.float64(6.45)"
      ]
     },
     "execution_count": 30,
     "metadata": {},
     "output_type": "execute_result"
    }
   ],
   "source": [
    "act_df[act_df.molecule_chembl_id==chembl_id].standard_value.median()"
   ]
  },
  {
   "cell_type": "code",
   "execution_count": null,
   "id": "c5305f1b-9ce3-46ad-825b-f46e60dfed6b",
   "metadata": {},
   "outputs": [],
   "source": []
  },
  {
   "cell_type": "markdown",
   "id": "11160d93-4764-4924-85cf-cb08ae8e9320",
   "metadata": {
    "jp-MarkdownHeadingCollapsed": true
   },
   "source": [
    "# HepG2"
   ]
  },
  {
   "cell_type": "code",
   "execution_count": 16,
   "id": "f4f4fdeb-ae66-474f-b7f4-e8d72e8c60b9",
   "metadata": {},
   "outputs": [
    {
     "name": "stderr",
     "output_type": "stream",
     "text": [
      "G:\\My Drive\\unict 2024-25\\drug_repurposing\\src\\validations\\chembl\\explore_chembl.py:13: DtypeWarning: Columns (7,8) have mixed types. Specify dtype option on import or set low_memory=False.\n",
      "  return pd.read_csv(CHEMBL_INPUT_DATA_DIR+cell_line+'_activity.tsv', sep='\\t', index_col=index_col)\n"
     ]
    },
    {
     "data": {
      "text/plain": [
       "assay_description\n",
       "Cytotoxicity against human HepG2 cells after 48 hrs by MTT assay                                                                                                        1950\n",
       "Antiproliferative activity against human HepG2 cells after 48 hrs by MTT assay                                                                                          1932\n",
       "Cytotoxicity against human HepG2 cells by MTT assay                                                                                                                      998\n",
       "Antiproliferative activity against human HepG2 cells after 72 hrs by MTT assay                                                                                           932\n",
       "Cytotoxicity against human HepG2 cells after 72 hrs by MTT assay                                                                                                         900\n",
       "                                                                                                                                                                        ... \n",
       "Inhibition of human delta-6 desaturase activity in human HepG2 cells using [1-14C]-stearic acid tracer                                                                     1\n",
       "Cytotoxicity activity against human HepG2 by CellTiter-Glo luminescent cell viability assay                                                                                1\n",
       "Cytotoxicity against human HepG2 cells assessed as inhibition of cell growth measured after 48 hrs by MTS assay                                                            1\n",
       "Inhibition of STAT3 (unknown origin) transfected in human HepG2 cells assessed as inhibition of IL-6 induced STAT3 phosphorylation by luciferase reporter gene assay       1\n",
       "Tested for ability to inhibit incorporation of [14C]acetate into cholesterol in cultured human hepatoma (HEP-G2) cells; 0.11-0.27                                          1\n",
       "Name: count, Length: 1356, dtype: int64"
      ]
     },
     "execution_count": 16,
     "metadata": {},
     "output_type": "execute_result"
    }
   ],
   "source": [
    "cell_line=cell_lines[1]\n",
    "act_df= load_raw_chembl(cell_line, activity_index=True)\n",
    "act_df['assay_description'].value_counts() # large data, takes a while"
   ]
  },
  {
   "cell_type": "code",
   "execution_count": 18,
   "id": "3e41d6f9-22b5-4341-a6f5-0b50fc7e9be0",
   "metadata": {},
   "outputs": [
    {
     "data": {
      "text/plain": [
       "molecule_chembl_id\n",
       "CHEMBL53463      326\n",
       "CHEMBL185        179\n",
       "CHEMBL428647     101\n",
       "CHEMBL1336        67\n",
       "CHEMBL44657       64\n",
       "                ... \n",
       "CHEMBL290427       1\n",
       "CHEMBL45071        1\n",
       "CHEMBL45254        1\n",
       "CHEMBL78101        1\n",
       "CHEMBL3143074      1\n",
       "Name: count, Length: 27962, dtype: int64"
      ]
     },
     "execution_count": 18,
     "metadata": {},
     "output_type": "execute_result"
    }
   ],
   "source": [
    "act_df.molecule_chembl_id.value_counts()"
   ]
  },
  {
   "cell_type": "code",
   "execution_count": 9,
   "id": "75ac3651-29d2-43b5-9c2d-c42610867623",
   "metadata": {},
   "outputs": [
    {
     "ename": "NameError",
     "evalue": "name 'tact_df' is not defined",
     "output_type": "error",
     "traceback": [
      "\u001b[1;31m---------------------------------------------------------------------------\u001b[0m",
      "\u001b[1;31mNameError\u001b[0m                                 Traceback (most recent call last)",
      "Cell \u001b[1;32mIn[9], line 1\u001b[0m\n\u001b[1;32m----> 1\u001b[0m \u001b[43mtact_df\u001b[49m\u001b[38;5;241m.\u001b[39mcanonical_smiles\u001b[38;5;241m.\u001b[39mhead()\n",
      "\u001b[1;31mNameError\u001b[0m: name 'tact_df' is not defined"
     ]
    }
   ],
   "source": [
    "act_df.canonical_smiles.head()"
   ]
  },
  {
   "cell_type": "markdown",
   "id": "4ccb66ce-6660-43b5-b6e9-58b29358f21d",
   "metadata": {},
   "source": [
    "# fILTRAA QUESTI DATI CON LINCS"
   ]
  },
  {
   "cell_type": "code",
   "execution_count": null,
   "id": "9f7d05ec-4b8f-4724-bd53-360562d75322",
   "metadata": {},
   "outputs": [],
   "source": []
  }
 ],
 "metadata": {
  "kernelspec": {
   "display_name": "Python 3 (ipykernel)",
   "language": "python",
   "name": "python3"
  },
  "language_info": {
   "codemirror_mode": {
    "name": "ipython",
    "version": 3
   },
   "file_extension": ".py",
   "mimetype": "text/x-python",
   "name": "python",
   "nbconvert_exporter": "python",
   "pygments_lexer": "ipython3",
   "version": "3.13.5"
  }
 },
 "nbformat": 4,
 "nbformat_minor": 5
}
